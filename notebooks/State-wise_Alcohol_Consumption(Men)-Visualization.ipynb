{
 "cells": [
  {
   "cell_type": "code",
   "execution_count": 4,
   "metadata": {},
   "outputs": [],
   "source": [
    "import pandas as pd\n",
    "import numpy as np"
   ]
  },
  {
   "cell_type": "code",
   "execution_count": 5,
   "metadata": {},
   "outputs": [],
   "source": [
    "import matplotlib.pyplot as plt"
   ]
  },
  {
   "cell_type": "code",
   "execution_count": 31,
   "metadata": {},
   "outputs": [],
   "source": [
    "file = 'states.csv'"
   ]
  },
  {
   "cell_type": "code",
   "execution_count": 32,
   "metadata": {},
   "outputs": [],
   "source": [
    "data = pd.read_csv(file)"
   ]
  },
  {
   "cell_type": "code",
   "execution_count": 33,
   "metadata": {},
   "outputs": [
    {
     "name": "stdout",
     "output_type": "stream",
     "text": [
      "<class 'pandas.core.frame.DataFrame'>\n",
      "RangeIndex: 4218 entries, 0 to 4217\n",
      "Data columns (total 8 columns):\n",
      "state                 4218 non-null object\n",
      "indicator_id          4218 non-null object\n",
      "indicator             4181 non-null object\n",
      "indicator_category    4181 non-null object\n",
      "urban                 4084 non-null object\n",
      "rural                 4103 non-null object\n",
      "total                 4218 non-null object\n",
      "total_2005-06         3305 non-null object\n",
      "dtypes: object(8)\n",
      "memory usage: 263.7+ KB\n"
     ]
    }
   ],
   "source": [
    "data.info()"
   ]
  },
  {
   "cell_type": "code",
   "execution_count": 34,
   "metadata": {},
   "outputs": [],
   "source": [
    "data = data.dropna(axis=0, how='any', subset=['urban', 'indicator_category', 'indicator_id', 'rural', 'total'])"
   ]
  },
  {
   "cell_type": "code",
   "execution_count": 35,
   "metadata": {},
   "outputs": [
    {
     "data": {
      "text/html": [
       "<div>\n",
       "<style>\n",
       "    .dataframe thead tr:only-child th {\n",
       "        text-align: right;\n",
       "    }\n",
       "\n",
       "    .dataframe thead th {\n",
       "        text-align: left;\n",
       "    }\n",
       "\n",
       "    .dataframe tbody tr th {\n",
       "        vertical-align: top;\n",
       "    }\n",
       "</style>\n",
       "<table border=\"1\" class=\"dataframe\">\n",
       "  <thead>\n",
       "    <tr style=\"text-align: right;\">\n",
       "      <th></th>\n",
       "      <th>state</th>\n",
       "      <th>indicator_id</th>\n",
       "      <th>indicator</th>\n",
       "      <th>indicator_category</th>\n",
       "      <th>urban</th>\n",
       "      <th>rural</th>\n",
       "      <th>total</th>\n",
       "      <th>total_2005-06</th>\n",
       "    </tr>\n",
       "  </thead>\n",
       "  <tbody>\n",
       "    <tr>\n",
       "      <th>0</th>\n",
       "      <td>Andaman and Nicobar Islands</td>\n",
       "      <td>1</td>\n",
       "      <td>Population (female) age 6 years and above who ...</td>\n",
       "      <td>Population and Household Profile</td>\n",
       "      <td>87.6</td>\n",
       "      <td>82.6</td>\n",
       "      <td>84.7</td>\n",
       "      <td>NaN</td>\n",
       "    </tr>\n",
       "    <tr>\n",
       "      <th>1</th>\n",
       "      <td>Andaman and Nicobar Islands</td>\n",
       "      <td>2</td>\n",
       "      <td>Population below age 15 years (%)</td>\n",
       "      <td>Population and Household Profile</td>\n",
       "      <td>23.4</td>\n",
       "      <td>24.3</td>\n",
       "      <td>23.9</td>\n",
       "      <td>NaN</td>\n",
       "    </tr>\n",
       "    <tr>\n",
       "      <th>2</th>\n",
       "      <td>Andaman and Nicobar Islands</td>\n",
       "      <td>3</td>\n",
       "      <td>Sex ratio of the total population (females per...</td>\n",
       "      <td>Population and Household Profile</td>\n",
       "      <td>966</td>\n",
       "      <td>984</td>\n",
       "      <td>977</td>\n",
       "      <td>NaN</td>\n",
       "    </tr>\n",
       "    <tr>\n",
       "      <th>3</th>\n",
       "      <td>Andaman and Nicobar Islands</td>\n",
       "      <td>4</td>\n",
       "      <td>Sex ratio at birth for children born in the la...</td>\n",
       "      <td>Population and Household Profile</td>\n",
       "      <td>708</td>\n",
       "      <td>978</td>\n",
       "      <td>859</td>\n",
       "      <td>NaN</td>\n",
       "    </tr>\n",
       "    <tr>\n",
       "      <th>4</th>\n",
       "      <td>Andaman and Nicobar Islands</td>\n",
       "      <td>5</td>\n",
       "      <td>Children under age 5 years whose birth was reg...</td>\n",
       "      <td>Population and Household Profile</td>\n",
       "      <td>97.2</td>\n",
       "      <td>98.4</td>\n",
       "      <td>97.9</td>\n",
       "      <td>NaN</td>\n",
       "    </tr>\n",
       "  </tbody>\n",
       "</table>\n",
       "</div>"
      ],
      "text/plain": [
       "                         state indicator_id  \\\n",
       "0  Andaman and Nicobar Islands            1   \n",
       "1  Andaman and Nicobar Islands            2   \n",
       "2  Andaman and Nicobar Islands            3   \n",
       "3  Andaman and Nicobar Islands            4   \n",
       "4  Andaman and Nicobar Islands            5   \n",
       "\n",
       "                                           indicator  \\\n",
       "0  Population (female) age 6 years and above who ...   \n",
       "1                  Population below age 15 years (%)   \n",
       "2  Sex ratio of the total population (females per...   \n",
       "3  Sex ratio at birth for children born in the la...   \n",
       "4  Children under age 5 years whose birth was reg...   \n",
       "\n",
       "                  indicator_category urban rural total total_2005-06  \n",
       "0  Population and Household Profile   87.6  82.6  84.7           NaN  \n",
       "1  Population and Household Profile   23.4  24.3  23.9           NaN  \n",
       "2  Population and Household Profile    966   984   977           NaN  \n",
       "3  Population and Household Profile    708   978   859           NaN  \n",
       "4  Population and Household Profile   97.2  98.4  97.9           NaN  "
      ]
     },
     "execution_count": 35,
     "metadata": {},
     "output_type": "execute_result"
    }
   ],
   "source": [
    "data.head()"
   ]
  },
  {
   "cell_type": "code",
   "execution_count": 36,
   "metadata": {},
   "outputs": [
    {
     "name": "stdout",
     "output_type": "stream",
     "text": [
      "<class 'pandas.core.frame.DataFrame'>\n",
      "Int64Index: 4048 entries, 0 to 4217\n",
      "Data columns (total 8 columns):\n",
      "state                 4048 non-null object\n",
      "indicator_id          4048 non-null object\n",
      "indicator             4048 non-null object\n",
      "indicator_category    4048 non-null object\n",
      "urban                 4048 non-null object\n",
      "rural                 4048 non-null object\n",
      "total                 4048 non-null object\n",
      "total_2005-06         3273 non-null object\n",
      "dtypes: object(8)\n",
      "memory usage: 284.6+ KB\n"
     ]
    }
   ],
   "source": [
    "data.info()"
   ]
  },
  {
   "cell_type": "code",
   "execution_count": 37,
   "metadata": {},
   "outputs": [],
   "source": [
    "mdata = data[data['indicator_id'] == '112']"
   ]
  },
  {
   "cell_type": "code",
   "execution_count": 38,
   "metadata": {},
   "outputs": [
    {
     "name": "stdout",
     "output_type": "stream",
     "text": [
      "<class 'pandas.core.frame.DataFrame'>\n",
      "Int64Index: 4048 entries, 0 to 4217\n",
      "Data columns (total 8 columns):\n",
      "state                 4048 non-null object\n",
      "indicator_id          4048 non-null object\n",
      "indicator             4048 non-null object\n",
      "indicator_category    4048 non-null object\n",
      "urban                 4048 non-null object\n",
      "rural                 4048 non-null object\n",
      "total                 4048 non-null object\n",
      "total_2005-06         3273 non-null object\n",
      "dtypes: object(8)\n",
      "memory usage: 284.6+ KB\n",
      "None\n"
     ]
    }
   ],
   "source": [
    "print(data.info())"
   ]
  },
  {
   "cell_type": "code",
   "execution_count": 39,
   "metadata": {},
   "outputs": [
    {
     "name": "stdout",
     "output_type": "stream",
     "text": [
      "<class 'pandas.core.frame.DataFrame'>\n",
      "Int64Index: 36 entries, 110 to 4215\n",
      "Data columns (total 8 columns):\n",
      "state                 36 non-null object\n",
      "indicator_id          36 non-null object\n",
      "indicator             36 non-null object\n",
      "indicator_category    36 non-null object\n",
      "urban                 36 non-null object\n",
      "rural                 36 non-null object\n",
      "total                 36 non-null object\n",
      "total_2005-06         29 non-null object\n",
      "dtypes: object(8)\n",
      "memory usage: 2.5+ KB\n",
      "None\n"
     ]
    }
   ],
   "source": [
    "print(mdata.info())\n",
    "data = data[data['indicator_id'] == '112']"
   ]
  },
  {
   "cell_type": "code",
   "execution_count": 40,
   "metadata": {},
   "outputs": [],
   "source": [
    "data['urban'] = pd.to_numeric(data['urban'], errors='coerce')\n",
    "data['rural'] = pd.to_numeric(data['rural'], errors='coerce')\n",
    "data['total'] = pd.to_numeric(data['total'], errors='coerce')\n",
    "\n",
    "data['indicator_id'] = pd.to_numeric(data['indicator_id'], errors='coerce')"
   ]
  },
  {
   "cell_type": "code",
   "execution_count": 41,
   "metadata": {},
   "outputs": [
    {
     "data": {
      "text/html": [
       "<div>\n",
       "<style>\n",
       "    .dataframe thead tr:only-child th {\n",
       "        text-align: right;\n",
       "    }\n",
       "\n",
       "    .dataframe thead th {\n",
       "        text-align: left;\n",
       "    }\n",
       "\n",
       "    .dataframe tbody tr th {\n",
       "        vertical-align: top;\n",
       "    }\n",
       "</style>\n",
       "<table border=\"1\" class=\"dataframe\">\n",
       "  <thead>\n",
       "    <tr style=\"text-align: right;\">\n",
       "      <th></th>\n",
       "      <th>state</th>\n",
       "      <th>indicator_id</th>\n",
       "      <th>indicator</th>\n",
       "      <th>indicator_category</th>\n",
       "      <th>urban</th>\n",
       "      <th>rural</th>\n",
       "      <th>total</th>\n",
       "      <th>total_2005-06</th>\n",
       "    </tr>\n",
       "  </thead>\n",
       "  <tbody>\n",
       "    <tr>\n",
       "      <th>110</th>\n",
       "      <td>Andaman and Nicobar Islands</td>\n",
       "      <td>112</td>\n",
       "      <td>Men who consume alcohol (%)</td>\n",
       "      <td>Tobacco Use and Alcohol Consumption among Adul...</td>\n",
       "      <td>58.8</td>\n",
       "      <td>46.8</td>\n",
       "      <td>51.7</td>\n",
       "      <td>NaN</td>\n",
       "    </tr>\n",
       "    <tr>\n",
       "      <th>225</th>\n",
       "      <td>Andhra Pradesh</td>\n",
       "      <td>112</td>\n",
       "      <td>Men who consume alcohol (%)</td>\n",
       "      <td>Tobacco Use and Alcohol Consumption among Adul...</td>\n",
       "      <td>29.6</td>\n",
       "      <td>37.7</td>\n",
       "      <td>34.9</td>\n",
       "      <td>NaN</td>\n",
       "    </tr>\n",
       "    <tr>\n",
       "      <th>338</th>\n",
       "      <td>Arunachal Pradesh</td>\n",
       "      <td>112</td>\n",
       "      <td>Men who consume alcohol (%)</td>\n",
       "      <td>Tobacco Use and Alcohol Consumption among Adul...</td>\n",
       "      <td>55.2</td>\n",
       "      <td>60.5</td>\n",
       "      <td>59.0</td>\n",
       "      <td>61.1</td>\n",
       "    </tr>\n",
       "    <tr>\n",
       "      <th>452</th>\n",
       "      <td>Assam</td>\n",
       "      <td>112</td>\n",
       "      <td>Men who consume alcohol (%)</td>\n",
       "      <td>Tobacco Use and Alcohol Consumption among Adul...</td>\n",
       "      <td>29.7</td>\n",
       "      <td>36.8</td>\n",
       "      <td>35.6</td>\n",
       "      <td>37.8</td>\n",
       "    </tr>\n",
       "    <tr>\n",
       "      <th>566</th>\n",
       "      <td>Bihar</td>\n",
       "      <td>112</td>\n",
       "      <td>Men who consume alcohol (%)</td>\n",
       "      <td>Tobacco Use and Alcohol Consumption among Adul...</td>\n",
       "      <td>26.2</td>\n",
       "      <td>29.5</td>\n",
       "      <td>28.9</td>\n",
       "      <td>34.9</td>\n",
       "    </tr>\n",
       "  </tbody>\n",
       "</table>\n",
       "</div>"
      ],
      "text/plain": [
       "                           state  indicator_id                    indicator  \\\n",
       "110  Andaman and Nicobar Islands           112  Men who consume alcohol (%)   \n",
       "225               Andhra Pradesh           112  Men who consume alcohol (%)   \n",
       "338            Arunachal Pradesh           112  Men who consume alcohol (%)   \n",
       "452                        Assam           112  Men who consume alcohol (%)   \n",
       "566                        Bihar           112  Men who consume alcohol (%)   \n",
       "\n",
       "                                    indicator_category  urban  rural  total  \\\n",
       "110  Tobacco Use and Alcohol Consumption among Adul...   58.8   46.8   51.7   \n",
       "225  Tobacco Use and Alcohol Consumption among Adul...   29.6   37.7   34.9   \n",
       "338  Tobacco Use and Alcohol Consumption among Adul...   55.2   60.5   59.0   \n",
       "452  Tobacco Use and Alcohol Consumption among Adul...   29.7   36.8   35.6   \n",
       "566  Tobacco Use and Alcohol Consumption among Adul...   26.2   29.5   28.9   \n",
       "\n",
       "    total_2005-06  \n",
       "110           NaN  \n",
       "225           NaN  \n",
       "338          61.1  \n",
       "452          37.8  \n",
       "566          34.9  "
      ]
     },
     "execution_count": 41,
     "metadata": {},
     "output_type": "execute_result"
    }
   ],
   "source": [
    "data.head()"
   ]
  },
  {
   "cell_type": "code",
   "execution_count": 42,
   "metadata": {},
   "outputs": [
    {
     "name": "stdout",
     "output_type": "stream",
     "text": [
      "<class 'pandas.core.frame.DataFrame'>\n",
      "Int64Index: 36 entries, 110 to 4215\n",
      "Data columns (total 8 columns):\n",
      "state                 36 non-null object\n",
      "indicator_id          36 non-null int64\n",
      "indicator             36 non-null object\n",
      "indicator_category    36 non-null object\n",
      "urban                 36 non-null float64\n",
      "rural                 35 non-null float64\n",
      "total                 36 non-null float64\n",
      "total_2005-06         29 non-null object\n",
      "dtypes: float64(3), int64(1), object(4)\n",
      "memory usage: 2.5+ KB\n"
     ]
    }
   ],
   "source": [
    "data.info()"
   ]
  },
  {
   "cell_type": "code",
   "execution_count": 43,
   "metadata": {},
   "outputs": [],
   "source": [
    "data = data.drop('indicator_id', axis=1)"
   ]
  },
  {
   "cell_type": "code",
   "execution_count": 44,
   "metadata": {},
   "outputs": [],
   "source": [
    "data = data.drop('indicator_category', axis=1)"
   ]
  },
  {
   "cell_type": "code",
   "execution_count": 45,
   "metadata": {},
   "outputs": [
    {
     "data": {
      "text/html": [
       "<div>\n",
       "<style>\n",
       "    .dataframe thead tr:only-child th {\n",
       "        text-align: right;\n",
       "    }\n",
       "\n",
       "    .dataframe thead th {\n",
       "        text-align: left;\n",
       "    }\n",
       "\n",
       "    .dataframe tbody tr th {\n",
       "        vertical-align: top;\n",
       "    }\n",
       "</style>\n",
       "<table border=\"1\" class=\"dataframe\">\n",
       "  <thead>\n",
       "    <tr style=\"text-align: right;\">\n",
       "      <th></th>\n",
       "      <th>state</th>\n",
       "      <th>indicator</th>\n",
       "      <th>urban</th>\n",
       "      <th>rural</th>\n",
       "      <th>total</th>\n",
       "      <th>total_2005-06</th>\n",
       "    </tr>\n",
       "  </thead>\n",
       "  <tbody>\n",
       "    <tr>\n",
       "      <th>110</th>\n",
       "      <td>Andaman and Nicobar Islands</td>\n",
       "      <td>Men who consume alcohol (%)</td>\n",
       "      <td>58.8</td>\n",
       "      <td>46.8</td>\n",
       "      <td>51.7</td>\n",
       "      <td>NaN</td>\n",
       "    </tr>\n",
       "    <tr>\n",
       "      <th>225</th>\n",
       "      <td>Andhra Pradesh</td>\n",
       "      <td>Men who consume alcohol (%)</td>\n",
       "      <td>29.6</td>\n",
       "      <td>37.7</td>\n",
       "      <td>34.9</td>\n",
       "      <td>NaN</td>\n",
       "    </tr>\n",
       "    <tr>\n",
       "      <th>338</th>\n",
       "      <td>Arunachal Pradesh</td>\n",
       "      <td>Men who consume alcohol (%)</td>\n",
       "      <td>55.2</td>\n",
       "      <td>60.5</td>\n",
       "      <td>59.0</td>\n",
       "      <td>61.1</td>\n",
       "    </tr>\n",
       "    <tr>\n",
       "      <th>452</th>\n",
       "      <td>Assam</td>\n",
       "      <td>Men who consume alcohol (%)</td>\n",
       "      <td>29.7</td>\n",
       "      <td>36.8</td>\n",
       "      <td>35.6</td>\n",
       "      <td>37.8</td>\n",
       "    </tr>\n",
       "    <tr>\n",
       "      <th>566</th>\n",
       "      <td>Bihar</td>\n",
       "      <td>Men who consume alcohol (%)</td>\n",
       "      <td>26.2</td>\n",
       "      <td>29.5</td>\n",
       "      <td>28.9</td>\n",
       "      <td>34.9</td>\n",
       "    </tr>\n",
       "  </tbody>\n",
       "</table>\n",
       "</div>"
      ],
      "text/plain": [
       "                           state                    indicator  urban  rural  \\\n",
       "110  Andaman and Nicobar Islands  Men who consume alcohol (%)   58.8   46.8   \n",
       "225               Andhra Pradesh  Men who consume alcohol (%)   29.6   37.7   \n",
       "338            Arunachal Pradesh  Men who consume alcohol (%)   55.2   60.5   \n",
       "452                        Assam  Men who consume alcohol (%)   29.7   36.8   \n",
       "566                        Bihar  Men who consume alcohol (%)   26.2   29.5   \n",
       "\n",
       "     total total_2005-06  \n",
       "110   51.7           NaN  \n",
       "225   34.9           NaN  \n",
       "338   59.0          61.1  \n",
       "452   35.6          37.8  \n",
       "566   28.9          34.9  "
      ]
     },
     "execution_count": 45,
     "metadata": {},
     "output_type": "execute_result"
    }
   ],
   "source": [
    "data.head()\n"
   ]
  },
  {
   "cell_type": "code",
   "execution_count": 46,
   "metadata": {},
   "outputs": [],
   "source": [
    "data = data.drop('total_2005-06', axis=1)"
   ]
  },
  {
   "cell_type": "code",
   "execution_count": 47,
   "metadata": {},
   "outputs": [
    {
     "data": {
      "text/html": [
       "<div>\n",
       "<style>\n",
       "    .dataframe thead tr:only-child th {\n",
       "        text-align: right;\n",
       "    }\n",
       "\n",
       "    .dataframe thead th {\n",
       "        text-align: left;\n",
       "    }\n",
       "\n",
       "    .dataframe tbody tr th {\n",
       "        vertical-align: top;\n",
       "    }\n",
       "</style>\n",
       "<table border=\"1\" class=\"dataframe\">\n",
       "  <thead>\n",
       "    <tr style=\"text-align: right;\">\n",
       "      <th></th>\n",
       "      <th>state</th>\n",
       "      <th>indicator</th>\n",
       "      <th>urban</th>\n",
       "      <th>rural</th>\n",
       "      <th>total</th>\n",
       "    </tr>\n",
       "  </thead>\n",
       "  <tbody>\n",
       "    <tr>\n",
       "      <th>110</th>\n",
       "      <td>Andaman and Nicobar Islands</td>\n",
       "      <td>Men who consume alcohol (%)</td>\n",
       "      <td>58.8</td>\n",
       "      <td>46.8</td>\n",
       "      <td>51.7</td>\n",
       "    </tr>\n",
       "    <tr>\n",
       "      <th>225</th>\n",
       "      <td>Andhra Pradesh</td>\n",
       "      <td>Men who consume alcohol (%)</td>\n",
       "      <td>29.6</td>\n",
       "      <td>37.7</td>\n",
       "      <td>34.9</td>\n",
       "    </tr>\n",
       "    <tr>\n",
       "      <th>338</th>\n",
       "      <td>Arunachal Pradesh</td>\n",
       "      <td>Men who consume alcohol (%)</td>\n",
       "      <td>55.2</td>\n",
       "      <td>60.5</td>\n",
       "      <td>59.0</td>\n",
       "    </tr>\n",
       "    <tr>\n",
       "      <th>452</th>\n",
       "      <td>Assam</td>\n",
       "      <td>Men who consume alcohol (%)</td>\n",
       "      <td>29.7</td>\n",
       "      <td>36.8</td>\n",
       "      <td>35.6</td>\n",
       "    </tr>\n",
       "    <tr>\n",
       "      <th>566</th>\n",
       "      <td>Bihar</td>\n",
       "      <td>Men who consume alcohol (%)</td>\n",
       "      <td>26.2</td>\n",
       "      <td>29.5</td>\n",
       "      <td>28.9</td>\n",
       "    </tr>\n",
       "  </tbody>\n",
       "</table>\n",
       "</div>"
      ],
      "text/plain": [
       "                           state                    indicator  urban  rural  \\\n",
       "110  Andaman and Nicobar Islands  Men who consume alcohol (%)   58.8   46.8   \n",
       "225               Andhra Pradesh  Men who consume alcohol (%)   29.6   37.7   \n",
       "338            Arunachal Pradesh  Men who consume alcohol (%)   55.2   60.5   \n",
       "452                        Assam  Men who consume alcohol (%)   29.7   36.8   \n",
       "566                        Bihar  Men who consume alcohol (%)   26.2   29.5   \n",
       "\n",
       "     total  \n",
       "110   51.7  \n",
       "225   34.9  \n",
       "338   59.0  \n",
       "452   35.6  \n",
       "566   28.9  "
      ]
     },
     "execution_count": 47,
     "metadata": {},
     "output_type": "execute_result"
    }
   ],
   "source": [
    "data.head()"
   ]
  },
  {
   "cell_type": "code",
   "execution_count": 48,
   "metadata": {},
   "outputs": [],
   "source": [
    "data = data.drop('indicator', axis=1)"
   ]
  },
  {
   "cell_type": "code",
   "execution_count": 49,
   "metadata": {},
   "outputs": [
    {
     "data": {
      "text/html": [
       "<div>\n",
       "<style>\n",
       "    .dataframe thead tr:only-child th {\n",
       "        text-align: right;\n",
       "    }\n",
       "\n",
       "    .dataframe thead th {\n",
       "        text-align: left;\n",
       "    }\n",
       "\n",
       "    .dataframe tbody tr th {\n",
       "        vertical-align: top;\n",
       "    }\n",
       "</style>\n",
       "<table border=\"1\" class=\"dataframe\">\n",
       "  <thead>\n",
       "    <tr style=\"text-align: right;\">\n",
       "      <th></th>\n",
       "      <th>state</th>\n",
       "      <th>urban</th>\n",
       "      <th>rural</th>\n",
       "      <th>total</th>\n",
       "    </tr>\n",
       "  </thead>\n",
       "  <tbody>\n",
       "    <tr>\n",
       "      <th>110</th>\n",
       "      <td>Andaman and Nicobar Islands</td>\n",
       "      <td>58.8</td>\n",
       "      <td>46.8</td>\n",
       "      <td>51.7</td>\n",
       "    </tr>\n",
       "    <tr>\n",
       "      <th>225</th>\n",
       "      <td>Andhra Pradesh</td>\n",
       "      <td>29.6</td>\n",
       "      <td>37.7</td>\n",
       "      <td>34.9</td>\n",
       "    </tr>\n",
       "    <tr>\n",
       "      <th>338</th>\n",
       "      <td>Arunachal Pradesh</td>\n",
       "      <td>55.2</td>\n",
       "      <td>60.5</td>\n",
       "      <td>59.0</td>\n",
       "    </tr>\n",
       "    <tr>\n",
       "      <th>452</th>\n",
       "      <td>Assam</td>\n",
       "      <td>29.7</td>\n",
       "      <td>36.8</td>\n",
       "      <td>35.6</td>\n",
       "    </tr>\n",
       "    <tr>\n",
       "      <th>566</th>\n",
       "      <td>Bihar</td>\n",
       "      <td>26.2</td>\n",
       "      <td>29.5</td>\n",
       "      <td>28.9</td>\n",
       "    </tr>\n",
       "  </tbody>\n",
       "</table>\n",
       "</div>"
      ],
      "text/plain": [
       "                           state  urban  rural  total\n",
       "110  Andaman and Nicobar Islands   58.8   46.8   51.7\n",
       "225               Andhra Pradesh   29.6   37.7   34.9\n",
       "338            Arunachal Pradesh   55.2   60.5   59.0\n",
       "452                        Assam   29.7   36.8   35.6\n",
       "566                        Bihar   26.2   29.5   28.9"
      ]
     },
     "execution_count": 49,
     "metadata": {},
     "output_type": "execute_result"
    }
   ],
   "source": [
    "data.head()"
   ]
  },
  {
   "cell_type": "code",
   "execution_count": 50,
   "metadata": {},
   "outputs": [],
   "source": [
    "from collections import OrderedDict\n",
    "result_color = OrderedDict([(\"urban\",\"red\"),(\"rural\", \"green\"),(\"total\",\"black\"),])\n",
    "data.to_csv('formatted.csv', index=False)"
   ]
  },
  {
   "cell_type": "code",
   "execution_count": 52,
   "metadata": {},
   "outputs": [
    {
     "name": "stderr",
     "output_type": "stream",
     "text": [
      "/usr/local/lib/python3.6/site-packages/ipykernel_launcher.py:18: RuntimeWarning: divide by zero encountered in log\n",
      "/usr/local/lib/python3.6/site-packages/ipykernel_launcher.py:18: RuntimeWarning: invalid value encountered in sqrt\n"
     ]
    }
   ],
   "source": [
    "from math import log, sqrt\n",
    "from bokeh.plotting import figure, show, output_file\n",
    "\n",
    "\n",
    "import numpy as np\n",
    "\n",
    "width = 400\n",
    "height = 400\n",
    "inner_radius = 90\n",
    "outer_radius = 300 - 10\n",
    "\n",
    "minr = sqrt(log(.001 * 1E4))\n",
    "maxr = sqrt(log(1000 * 1E4))\n",
    "a = (outer_radius - inner_radius) / (minr - maxr)\n",
    "b = inner_radius - a * maxr\n",
    "\n",
    "def rad(mic):\n",
    "    return a * np.sqrt(np.log(mic * 1E4)) + b\n",
    "\n",
    "big_angle = 2.0 * np.pi / (len(data) + 1)\n",
    "small_angle = big_angle / 7\n",
    "\n",
    "p = figure(plot_width=width, plot_height=height, title=\"\",\n",
    "    x_axis_type=None, y_axis_type=None,\n",
    "    x_range=(-420, 420), y_range=(-420, 420),\n",
    "    min_border=0, toolbar_sticky=False)\n",
    "\n",
    "p.xgrid.grid_line_color = None\n",
    "p.ygrid.grid_line_color = None\n",
    "\n",
    "angles = np.pi/2 - big_angle/2 - data.index.to_series()*big_angle\n",
    "\n",
    "# small wedges\n",
    "p.annular_wedge(0, 0, inner_radius, rad(data.urban),\n",
    "                -big_angle+angles+5*small_angle, -big_angle+angles+6*small_angle,\n",
    "                color=result_color['urban'])\n",
    "p.annular_wedge(0, 0, inner_radius, rad(data.rural),\n",
    "                -big_angle+angles+3*small_angle, -big_angle+angles+4*small_angle,\n",
    "                color=result_color['rural'])\n",
    "p.annular_wedge(0, 0, inner_radius, rad(data.total),\n",
    "                -big_angle+angles+1*small_angle, -big_angle+angles+2*small_angle,\n",
    "                color=result_color['total'])\n",
    "\n",
    "# circular axes and lables\n",
    "labels = np.power(10.0, np.arange(-3, 4))\n",
    "radii = a * np.sqrt(np.log(labels * 1E4)) + b\n",
    "p.circle(0, 0, radius=radii, fill_color=None, line_color=\"white\")\n",
    "p.text(0, radii[:-1], [str(r) for r in labels[:-1]],\n",
    "       text_font_size=\"8pt\", text_align=\"center\", text_baseline=\"middle\")\n",
    "\n",
    "\n",
    "\n",
    "# bacteria labels\n",
    "xr = radii[0]*np.cos(np.array(-big_angle/2 + angles))\n",
    "yr = radii[0]*np.sin(np.array(-big_angle/2 + angles))\n",
    "label_angle=np.array(-big_angle/2+angles)\n",
    "label_angle[label_angle < -np.pi/2] += np.pi # easier to read labels on the left side\n",
    "p.text(xr, yr, data.state, angle=label_angle,\n",
    "       text_font_size=\"9pt\", text_align=\"center\", text_baseline=\"middle\")\n",
    "\n",
    "\n",
    "output_file(\"output.html\", title=\"Alc Consumption\")\n",
    "\n",
    "show(p)"
   ]
  },
  {
   "cell_type": "code",
   "execution_count": null,
   "metadata": {},
   "outputs": [],
   "source": []
  },
  {
   "cell_type": "code",
   "execution_count": null,
   "metadata": {},
   "outputs": [],
   "source": []
  }
 ],
 "metadata": {
  "kernelspec": {
   "display_name": "Python 3",
   "language": "python",
   "name": "python3"
  },
  "language_info": {
   "codemirror_mode": {
    "name": "ipython",
    "version": 3
   },
   "file_extension": ".py",
   "mimetype": "text/x-python",
   "name": "python",
   "nbconvert_exporter": "python",
   "pygments_lexer": "ipython3",
   "version": "3.6.1"
  }
 },
 "nbformat": 4,
 "nbformat_minor": 2
}

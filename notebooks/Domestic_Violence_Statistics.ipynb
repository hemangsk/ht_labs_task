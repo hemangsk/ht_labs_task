{
 "cells": [
  {
   "cell_type": "code",
   "execution_count": 23,
   "metadata": {},
   "outputs": [],
   "source": [
    "import pandas as pd\n",
    "import numpy as np"
   ]
  },
  {
   "cell_type": "code",
   "execution_count": 24,
   "metadata": {},
   "outputs": [],
   "source": [
    "import matplotlib.pyplot as plt"
   ]
  },
  {
   "cell_type": "code",
   "execution_count": 25,
   "metadata": {},
   "outputs": [],
   "source": [
    "file = 'states.csv'"
   ]
  },
  {
   "cell_type": "code",
   "execution_count": 26,
   "metadata": {},
   "outputs": [],
   "source": [
    "data = pd.read_csv(file)"
   ]
  },
  {
   "cell_type": "code",
   "execution_count": 27,
   "metadata": {},
   "outputs": [
    {
     "name": "stdout",
     "output_type": "stream",
     "text": [
      "<class 'pandas.core.frame.DataFrame'>\n",
      "RangeIndex: 4218 entries, 0 to 4217\n",
      "Data columns (total 8 columns):\n",
      "state                 4218 non-null object\n",
      "indicator_id          4218 non-null object\n",
      "indicator             4181 non-null object\n",
      "indicator_category    4181 non-null object\n",
      "urban                 4084 non-null object\n",
      "rural                 4103 non-null object\n",
      "total                 4218 non-null object\n",
      "total_2005-06         3305 non-null object\n",
      "dtypes: object(8)\n",
      "memory usage: 263.7+ KB\n"
     ]
    }
   ],
   "source": [
    "data.info()"
   ]
  },
  {
   "cell_type": "code",
   "execution_count": 28,
   "metadata": {},
   "outputs": [],
   "source": [
    "data = data.dropna(axis=0, how='any', subset=['urban', 'indicator_category', 'indicator_id', 'rural', 'total'])"
   ]
  },
  {
   "cell_type": "code",
   "execution_count": 29,
   "metadata": {},
   "outputs": [
    {
     "data": {
      "text/html": [
       "<div>\n",
       "<style>\n",
       "    .dataframe thead tr:only-child th {\n",
       "        text-align: right;\n",
       "    }\n",
       "\n",
       "    .dataframe thead th {\n",
       "        text-align: left;\n",
       "    }\n",
       "\n",
       "    .dataframe tbody tr th {\n",
       "        vertical-align: top;\n",
       "    }\n",
       "</style>\n",
       "<table border=\"1\" class=\"dataframe\">\n",
       "  <thead>\n",
       "    <tr style=\"text-align: right;\">\n",
       "      <th></th>\n",
       "      <th>state</th>\n",
       "      <th>indicator_id</th>\n",
       "      <th>indicator</th>\n",
       "      <th>indicator_category</th>\n",
       "      <th>urban</th>\n",
       "      <th>rural</th>\n",
       "      <th>total</th>\n",
       "      <th>total_2005-06</th>\n",
       "    </tr>\n",
       "  </thead>\n",
       "  <tbody>\n",
       "    <tr>\n",
       "      <th>0</th>\n",
       "      <td>Andaman and Nicobar Islands</td>\n",
       "      <td>1</td>\n",
       "      <td>Population (female) age 6 years and above who ...</td>\n",
       "      <td>Population and Household Profile</td>\n",
       "      <td>87.6</td>\n",
       "      <td>82.6</td>\n",
       "      <td>84.7</td>\n",
       "      <td>NaN</td>\n",
       "    </tr>\n",
       "    <tr>\n",
       "      <th>1</th>\n",
       "      <td>Andaman and Nicobar Islands</td>\n",
       "      <td>2</td>\n",
       "      <td>Population below age 15 years (%)</td>\n",
       "      <td>Population and Household Profile</td>\n",
       "      <td>23.4</td>\n",
       "      <td>24.3</td>\n",
       "      <td>23.9</td>\n",
       "      <td>NaN</td>\n",
       "    </tr>\n",
       "    <tr>\n",
       "      <th>2</th>\n",
       "      <td>Andaman and Nicobar Islands</td>\n",
       "      <td>3</td>\n",
       "      <td>Sex ratio of the total population (females per...</td>\n",
       "      <td>Population and Household Profile</td>\n",
       "      <td>966</td>\n",
       "      <td>984</td>\n",
       "      <td>977</td>\n",
       "      <td>NaN</td>\n",
       "    </tr>\n",
       "    <tr>\n",
       "      <th>3</th>\n",
       "      <td>Andaman and Nicobar Islands</td>\n",
       "      <td>4</td>\n",
       "      <td>Sex ratio at birth for children born in the la...</td>\n",
       "      <td>Population and Household Profile</td>\n",
       "      <td>708</td>\n",
       "      <td>978</td>\n",
       "      <td>859</td>\n",
       "      <td>NaN</td>\n",
       "    </tr>\n",
       "    <tr>\n",
       "      <th>4</th>\n",
       "      <td>Andaman and Nicobar Islands</td>\n",
       "      <td>5</td>\n",
       "      <td>Children under age 5 years whose birth was reg...</td>\n",
       "      <td>Population and Household Profile</td>\n",
       "      <td>97.2</td>\n",
       "      <td>98.4</td>\n",
       "      <td>97.9</td>\n",
       "      <td>NaN</td>\n",
       "    </tr>\n",
       "  </tbody>\n",
       "</table>\n",
       "</div>"
      ],
      "text/plain": [
       "                         state indicator_id  \\\n",
       "0  Andaman and Nicobar Islands            1   \n",
       "1  Andaman and Nicobar Islands            2   \n",
       "2  Andaman and Nicobar Islands            3   \n",
       "3  Andaman and Nicobar Islands            4   \n",
       "4  Andaman and Nicobar Islands            5   \n",
       "\n",
       "                                           indicator  \\\n",
       "0  Population (female) age 6 years and above who ...   \n",
       "1                  Population below age 15 years (%)   \n",
       "2  Sex ratio of the total population (females per...   \n",
       "3  Sex ratio at birth for children born in the la...   \n",
       "4  Children under age 5 years whose birth was reg...   \n",
       "\n",
       "                  indicator_category urban rural total total_2005-06  \n",
       "0  Population and Household Profile   87.6  82.6  84.7           NaN  \n",
       "1  Population and Household Profile   23.4  24.3  23.9           NaN  \n",
       "2  Population and Household Profile    966   984   977           NaN  \n",
       "3  Population and Household Profile    708   978   859           NaN  \n",
       "4  Population and Household Profile   97.2  98.4  97.9           NaN  "
      ]
     },
     "execution_count": 29,
     "metadata": {},
     "output_type": "execute_result"
    }
   ],
   "source": [
    "data.head()"
   ]
  },
  {
   "cell_type": "code",
   "execution_count": 30,
   "metadata": {},
   "outputs": [
    {
     "name": "stdout",
     "output_type": "stream",
     "text": [
      "<class 'pandas.core.frame.DataFrame'>\n",
      "Int64Index: 4048 entries, 0 to 4217\n",
      "Data columns (total 8 columns):\n",
      "state                 4048 non-null object\n",
      "indicator_id          4048 non-null object\n",
      "indicator             4048 non-null object\n",
      "indicator_category    4048 non-null object\n",
      "urban                 4048 non-null object\n",
      "rural                 4048 non-null object\n",
      "total                 4048 non-null object\n",
      "total_2005-06         3273 non-null object\n",
      "dtypes: object(8)\n",
      "memory usage: 284.6+ KB\n"
     ]
    }
   ],
   "source": [
    "data.info()"
   ]
  },
  {
   "cell_type": "code",
   "execution_count": 31,
   "metadata": {},
   "outputs": [
    {
     "name": "stdout",
     "output_type": "stream",
     "text": [
      "<class 'pandas.core.frame.DataFrame'>\n",
      "Int64Index: 4048 entries, 0 to 4217\n",
      "Data columns (total 8 columns):\n",
      "state                 4048 non-null object\n",
      "indicator_id          4048 non-null object\n",
      "indicator             4048 non-null object\n",
      "indicator_category    4048 non-null object\n",
      "urban                 4048 non-null object\n",
      "rural                 4048 non-null object\n",
      "total                 4048 non-null object\n",
      "total_2005-06         3273 non-null object\n",
      "dtypes: object(8)\n",
      "memory usage: 284.6+ KB\n",
      "None\n"
     ]
    }
   ],
   "source": [
    "print(data.info())"
   ]
  },
  {
   "cell_type": "code",
   "execution_count": 32,
   "metadata": {},
   "outputs": [],
   "source": [
    "data = data[data['indicator_id'] == '103']"
   ]
  },
  {
   "cell_type": "code",
   "execution_count": 33,
   "metadata": {},
   "outputs": [],
   "source": [
    "data['urban'] = pd.to_numeric(data['urban'], errors='coerce')\n",
    "data['rural'] = pd.to_numeric(data['rural'], errors='coerce')\n",
    "data['total'] = pd.to_numeric(data['total'], errors='coerce')\n",
    "\n",
    "data['indicator_id'] = pd.to_numeric(data['indicator_id'], errors='coerce')"
   ]
  },
  {
   "cell_type": "code",
   "execution_count": 34,
   "metadata": {},
   "outputs": [
    {
     "data": {
      "text/html": [
       "<div>\n",
       "<style>\n",
       "    .dataframe thead tr:only-child th {\n",
       "        text-align: right;\n",
       "    }\n",
       "\n",
       "    .dataframe thead th {\n",
       "        text-align: left;\n",
       "    }\n",
       "\n",
       "    .dataframe tbody tr th {\n",
       "        vertical-align: top;\n",
       "    }\n",
       "</style>\n",
       "<table border=\"1\" class=\"dataframe\">\n",
       "  <thead>\n",
       "    <tr style=\"text-align: right;\">\n",
       "      <th></th>\n",
       "      <th>state</th>\n",
       "      <th>indicator_id</th>\n",
       "      <th>indicator</th>\n",
       "      <th>indicator_category</th>\n",
       "      <th>urban</th>\n",
       "      <th>rural</th>\n",
       "      <th>total</th>\n",
       "      <th>total_2005-06</th>\n",
       "    </tr>\n",
       "  </thead>\n",
       "  <tbody>\n",
       "    <tr>\n",
       "      <th>101</th>\n",
       "      <td>Andaman and Nicobar Islands</td>\n",
       "      <td>103</td>\n",
       "      <td>Ever-married women who have ever experienced s...</td>\n",
       "      <td>Women's Empowerment and Gender Based Violence ...</td>\n",
       "      <td>19.4</td>\n",
       "      <td>17.4</td>\n",
       "      <td>18.3</td>\n",
       "      <td>NaN</td>\n",
       "    </tr>\n",
       "    <tr>\n",
       "      <th>216</th>\n",
       "      <td>Andhra Pradesh</td>\n",
       "      <td>103</td>\n",
       "      <td>Ever-married women who have ever experienced s...</td>\n",
       "      <td>Women's Empowerment and Gender Based Violence ...</td>\n",
       "      <td>42.4</td>\n",
       "      <td>43.6</td>\n",
       "      <td>43.2</td>\n",
       "      <td>NaN</td>\n",
       "    </tr>\n",
       "    <tr>\n",
       "      <th>329</th>\n",
       "      <td>Arunachal Pradesh</td>\n",
       "      <td>103</td>\n",
       "      <td>Ever-married women who have ever experienced s...</td>\n",
       "      <td>Women's Empowerment and Gender Based Violence ...</td>\n",
       "      <td>28.3</td>\n",
       "      <td>31.4</td>\n",
       "      <td>30.6</td>\n",
       "      <td>38.8</td>\n",
       "    </tr>\n",
       "    <tr>\n",
       "      <th>443</th>\n",
       "      <td>Assam</td>\n",
       "      <td>103</td>\n",
       "      <td>Ever-married women who have ever experienced s...</td>\n",
       "      <td>Women's Empowerment and Gender Based Violence ...</td>\n",
       "      <td>15.9</td>\n",
       "      <td>26.2</td>\n",
       "      <td>24.5</td>\n",
       "      <td>39.4</td>\n",
       "    </tr>\n",
       "    <tr>\n",
       "      <th>557</th>\n",
       "      <td>Bihar</td>\n",
       "      <td>103</td>\n",
       "      <td>Ever-married women who have ever experienced s...</td>\n",
       "      <td>Women's Empowerment and Gender Based Violence ...</td>\n",
       "      <td>40.2</td>\n",
       "      <td>43.7</td>\n",
       "      <td>43.2</td>\n",
       "      <td>59</td>\n",
       "    </tr>\n",
       "  </tbody>\n",
       "</table>\n",
       "</div>"
      ],
      "text/plain": [
       "                           state  indicator_id  \\\n",
       "101  Andaman and Nicobar Islands           103   \n",
       "216               Andhra Pradesh           103   \n",
       "329            Arunachal Pradesh           103   \n",
       "443                        Assam           103   \n",
       "557                        Bihar           103   \n",
       "\n",
       "                                             indicator  \\\n",
       "101  Ever-married women who have ever experienced s...   \n",
       "216  Ever-married women who have ever experienced s...   \n",
       "329  Ever-married women who have ever experienced s...   \n",
       "443  Ever-married women who have ever experienced s...   \n",
       "557  Ever-married women who have ever experienced s...   \n",
       "\n",
       "                                    indicator_category  urban  rural  total  \\\n",
       "101  Women's Empowerment and Gender Based Violence ...   19.4   17.4   18.3   \n",
       "216  Women's Empowerment and Gender Based Violence ...   42.4   43.6   43.2   \n",
       "329  Women's Empowerment and Gender Based Violence ...   28.3   31.4   30.6   \n",
       "443  Women's Empowerment and Gender Based Violence ...   15.9   26.2   24.5   \n",
       "557  Women's Empowerment and Gender Based Violence ...   40.2   43.7   43.2   \n",
       "\n",
       "    total_2005-06  \n",
       "101           NaN  \n",
       "216           NaN  \n",
       "329          38.8  \n",
       "443          39.4  \n",
       "557            59  "
      ]
     },
     "execution_count": 34,
     "metadata": {},
     "output_type": "execute_result"
    }
   ],
   "source": [
    "data.head()"
   ]
  },
  {
   "cell_type": "code",
   "execution_count": 35,
   "metadata": {},
   "outputs": [
    {
     "name": "stdout",
     "output_type": "stream",
     "text": [
      "<class 'pandas.core.frame.DataFrame'>\n",
      "Int64Index: 36 entries, 101 to 4206\n",
      "Data columns (total 8 columns):\n",
      "state                 36 non-null object\n",
      "indicator_id          36 non-null int64\n",
      "indicator             36 non-null object\n",
      "indicator_category    36 non-null object\n",
      "urban                 36 non-null float64\n",
      "rural                 34 non-null float64\n",
      "total                 36 non-null float64\n",
      "total_2005-06         29 non-null object\n",
      "dtypes: float64(3), int64(1), object(4)\n",
      "memory usage: 2.5+ KB\n"
     ]
    }
   ],
   "source": [
    "data.info()"
   ]
  },
  {
   "cell_type": "code",
   "execution_count": 36,
   "metadata": {},
   "outputs": [],
   "source": [
    "data = data.drop('indicator_id', axis=1)"
   ]
  },
  {
   "cell_type": "code",
   "execution_count": 37,
   "metadata": {},
   "outputs": [],
   "source": [
    "data = data.drop('indicator_category', axis=1)"
   ]
  },
  {
   "cell_type": "code",
   "execution_count": 38,
   "metadata": {},
   "outputs": [
    {
     "data": {
      "text/html": [
       "<div>\n",
       "<style>\n",
       "    .dataframe thead tr:only-child th {\n",
       "        text-align: right;\n",
       "    }\n",
       "\n",
       "    .dataframe thead th {\n",
       "        text-align: left;\n",
       "    }\n",
       "\n",
       "    .dataframe tbody tr th {\n",
       "        vertical-align: top;\n",
       "    }\n",
       "</style>\n",
       "<table border=\"1\" class=\"dataframe\">\n",
       "  <thead>\n",
       "    <tr style=\"text-align: right;\">\n",
       "      <th></th>\n",
       "      <th>state</th>\n",
       "      <th>indicator</th>\n",
       "      <th>urban</th>\n",
       "      <th>rural</th>\n",
       "      <th>total</th>\n",
       "      <th>total_2005-06</th>\n",
       "    </tr>\n",
       "  </thead>\n",
       "  <tbody>\n",
       "    <tr>\n",
       "      <th>101</th>\n",
       "      <td>Andaman and Nicobar Islands</td>\n",
       "      <td>Ever-married women who have ever experienced s...</td>\n",
       "      <td>19.4</td>\n",
       "      <td>17.4</td>\n",
       "      <td>18.3</td>\n",
       "      <td>NaN</td>\n",
       "    </tr>\n",
       "    <tr>\n",
       "      <th>216</th>\n",
       "      <td>Andhra Pradesh</td>\n",
       "      <td>Ever-married women who have ever experienced s...</td>\n",
       "      <td>42.4</td>\n",
       "      <td>43.6</td>\n",
       "      <td>43.2</td>\n",
       "      <td>NaN</td>\n",
       "    </tr>\n",
       "    <tr>\n",
       "      <th>329</th>\n",
       "      <td>Arunachal Pradesh</td>\n",
       "      <td>Ever-married women who have ever experienced s...</td>\n",
       "      <td>28.3</td>\n",
       "      <td>31.4</td>\n",
       "      <td>30.6</td>\n",
       "      <td>38.8</td>\n",
       "    </tr>\n",
       "    <tr>\n",
       "      <th>443</th>\n",
       "      <td>Assam</td>\n",
       "      <td>Ever-married women who have ever experienced s...</td>\n",
       "      <td>15.9</td>\n",
       "      <td>26.2</td>\n",
       "      <td>24.5</td>\n",
       "      <td>39.4</td>\n",
       "    </tr>\n",
       "    <tr>\n",
       "      <th>557</th>\n",
       "      <td>Bihar</td>\n",
       "      <td>Ever-married women who have ever experienced s...</td>\n",
       "      <td>40.2</td>\n",
       "      <td>43.7</td>\n",
       "      <td>43.2</td>\n",
       "      <td>59</td>\n",
       "    </tr>\n",
       "  </tbody>\n",
       "</table>\n",
       "</div>"
      ],
      "text/plain": [
       "                           state  \\\n",
       "101  Andaman and Nicobar Islands   \n",
       "216               Andhra Pradesh   \n",
       "329            Arunachal Pradesh   \n",
       "443                        Assam   \n",
       "557                        Bihar   \n",
       "\n",
       "                                             indicator  urban  rural  total  \\\n",
       "101  Ever-married women who have ever experienced s...   19.4   17.4   18.3   \n",
       "216  Ever-married women who have ever experienced s...   42.4   43.6   43.2   \n",
       "329  Ever-married women who have ever experienced s...   28.3   31.4   30.6   \n",
       "443  Ever-married women who have ever experienced s...   15.9   26.2   24.5   \n",
       "557  Ever-married women who have ever experienced s...   40.2   43.7   43.2   \n",
       "\n",
       "    total_2005-06  \n",
       "101           NaN  \n",
       "216           NaN  \n",
       "329          38.8  \n",
       "443          39.4  \n",
       "557            59  "
      ]
     },
     "execution_count": 38,
     "metadata": {},
     "output_type": "execute_result"
    }
   ],
   "source": [
    "data.head()\n"
   ]
  },
  {
   "cell_type": "code",
   "execution_count": 39,
   "metadata": {},
   "outputs": [],
   "source": [
    "data = data.drop('total_2005-06', axis=1)"
   ]
  },
  {
   "cell_type": "code",
   "execution_count": 40,
   "metadata": {},
   "outputs": [
    {
     "data": {
      "text/html": [
       "<div>\n",
       "<style>\n",
       "    .dataframe thead tr:only-child th {\n",
       "        text-align: right;\n",
       "    }\n",
       "\n",
       "    .dataframe thead th {\n",
       "        text-align: left;\n",
       "    }\n",
       "\n",
       "    .dataframe tbody tr th {\n",
       "        vertical-align: top;\n",
       "    }\n",
       "</style>\n",
       "<table border=\"1\" class=\"dataframe\">\n",
       "  <thead>\n",
       "    <tr style=\"text-align: right;\">\n",
       "      <th></th>\n",
       "      <th>state</th>\n",
       "      <th>indicator</th>\n",
       "      <th>urban</th>\n",
       "      <th>rural</th>\n",
       "      <th>total</th>\n",
       "    </tr>\n",
       "  </thead>\n",
       "  <tbody>\n",
       "    <tr>\n",
       "      <th>101</th>\n",
       "      <td>Andaman and Nicobar Islands</td>\n",
       "      <td>Ever-married women who have ever experienced s...</td>\n",
       "      <td>19.4</td>\n",
       "      <td>17.4</td>\n",
       "      <td>18.3</td>\n",
       "    </tr>\n",
       "    <tr>\n",
       "      <th>216</th>\n",
       "      <td>Andhra Pradesh</td>\n",
       "      <td>Ever-married women who have ever experienced s...</td>\n",
       "      <td>42.4</td>\n",
       "      <td>43.6</td>\n",
       "      <td>43.2</td>\n",
       "    </tr>\n",
       "    <tr>\n",
       "      <th>329</th>\n",
       "      <td>Arunachal Pradesh</td>\n",
       "      <td>Ever-married women who have ever experienced s...</td>\n",
       "      <td>28.3</td>\n",
       "      <td>31.4</td>\n",
       "      <td>30.6</td>\n",
       "    </tr>\n",
       "    <tr>\n",
       "      <th>443</th>\n",
       "      <td>Assam</td>\n",
       "      <td>Ever-married women who have ever experienced s...</td>\n",
       "      <td>15.9</td>\n",
       "      <td>26.2</td>\n",
       "      <td>24.5</td>\n",
       "    </tr>\n",
       "    <tr>\n",
       "      <th>557</th>\n",
       "      <td>Bihar</td>\n",
       "      <td>Ever-married women who have ever experienced s...</td>\n",
       "      <td>40.2</td>\n",
       "      <td>43.7</td>\n",
       "      <td>43.2</td>\n",
       "    </tr>\n",
       "  </tbody>\n",
       "</table>\n",
       "</div>"
      ],
      "text/plain": [
       "                           state  \\\n",
       "101  Andaman and Nicobar Islands   \n",
       "216               Andhra Pradesh   \n",
       "329            Arunachal Pradesh   \n",
       "443                        Assam   \n",
       "557                        Bihar   \n",
       "\n",
       "                                             indicator  urban  rural  total  \n",
       "101  Ever-married women who have ever experienced s...   19.4   17.4   18.3  \n",
       "216  Ever-married women who have ever experienced s...   42.4   43.6   43.2  \n",
       "329  Ever-married women who have ever experienced s...   28.3   31.4   30.6  \n",
       "443  Ever-married women who have ever experienced s...   15.9   26.2   24.5  \n",
       "557  Ever-married women who have ever experienced s...   40.2   43.7   43.2  "
      ]
     },
     "execution_count": 40,
     "metadata": {},
     "output_type": "execute_result"
    }
   ],
   "source": [
    "data.head()"
   ]
  },
  {
   "cell_type": "code",
   "execution_count": 41,
   "metadata": {},
   "outputs": [],
   "source": [
    "data = data.drop('indicator', axis=1)"
   ]
  },
  {
   "cell_type": "code",
   "execution_count": 42,
   "metadata": {},
   "outputs": [
    {
     "data": {
      "text/html": [
       "<div>\n",
       "<style>\n",
       "    .dataframe thead tr:only-child th {\n",
       "        text-align: right;\n",
       "    }\n",
       "\n",
       "    .dataframe thead th {\n",
       "        text-align: left;\n",
       "    }\n",
       "\n",
       "    .dataframe tbody tr th {\n",
       "        vertical-align: top;\n",
       "    }\n",
       "</style>\n",
       "<table border=\"1\" class=\"dataframe\">\n",
       "  <thead>\n",
       "    <tr style=\"text-align: right;\">\n",
       "      <th></th>\n",
       "      <th>state</th>\n",
       "      <th>urban</th>\n",
       "      <th>rural</th>\n",
       "      <th>total</th>\n",
       "    </tr>\n",
       "  </thead>\n",
       "  <tbody>\n",
       "    <tr>\n",
       "      <th>101</th>\n",
       "      <td>Andaman and Nicobar Islands</td>\n",
       "      <td>19.4</td>\n",
       "      <td>17.4</td>\n",
       "      <td>18.3</td>\n",
       "    </tr>\n",
       "    <tr>\n",
       "      <th>216</th>\n",
       "      <td>Andhra Pradesh</td>\n",
       "      <td>42.4</td>\n",
       "      <td>43.6</td>\n",
       "      <td>43.2</td>\n",
       "    </tr>\n",
       "    <tr>\n",
       "      <th>329</th>\n",
       "      <td>Arunachal Pradesh</td>\n",
       "      <td>28.3</td>\n",
       "      <td>31.4</td>\n",
       "      <td>30.6</td>\n",
       "    </tr>\n",
       "    <tr>\n",
       "      <th>443</th>\n",
       "      <td>Assam</td>\n",
       "      <td>15.9</td>\n",
       "      <td>26.2</td>\n",
       "      <td>24.5</td>\n",
       "    </tr>\n",
       "    <tr>\n",
       "      <th>557</th>\n",
       "      <td>Bihar</td>\n",
       "      <td>40.2</td>\n",
       "      <td>43.7</td>\n",
       "      <td>43.2</td>\n",
       "    </tr>\n",
       "  </tbody>\n",
       "</table>\n",
       "</div>"
      ],
      "text/plain": [
       "                           state  urban  rural  total\n",
       "101  Andaman and Nicobar Islands   19.4   17.4   18.3\n",
       "216               Andhra Pradesh   42.4   43.6   43.2\n",
       "329            Arunachal Pradesh   28.3   31.4   30.6\n",
       "443                        Assam   15.9   26.2   24.5\n",
       "557                        Bihar   40.2   43.7   43.2"
      ]
     },
     "execution_count": 42,
     "metadata": {},
     "output_type": "execute_result"
    }
   ],
   "source": [
    "data.head()"
   ]
  },
  {
   "cell_type": "code",
   "execution_count": 43,
   "metadata": {},
   "outputs": [
    {
     "name": "stderr",
     "output_type": "stream",
     "text": [
      "/usr/local/lib/python3.6/site-packages/matplotlib/figure.py:1743: UserWarning: This figure includes Axes that are not compatible with tight_layout, so its results might be incorrect.\n",
      "  warnings.warn(\"This figure includes Axes that are not \"\n"
     ]
    },
    {
     "data": {
      "image/png": "[encoded data removed]",
      "text/plain": [
       "<matplotlib.figure.Figure at 0x10759c198>"
      ]
     },
     "metadata": {},
     "output_type": "display_data"
    }
   ],
   "source": [
    "from collections import OrderedDict\n",
    "result_color = OrderedDict([(\"urban\",\"red\"),(\"rural\", \"green\"),(\"total\",\"black\"),])\n",
    "data.to_csv('formatted-violence.csv', index=False)\n",
    "from matplotlib import rcParams\n",
    "rcParams.update({'figure.autolayout': True})\n",
    "data_total = data[['state', 'total']].copy()\n",
    "data_total = data_total.drop_duplicates(subset='state')\n",
    "plotted = data_total.set_index('state').plot(kind='bar', figsize=(15,10))\n",
    "plt.show()\n",
    "fig = plotted.get_figure()\n",
    "fig.savefig(\"domesticviolence.png\")"
   ]
  },
  {
   "cell_type": "code",
   "execution_count": null,
   "metadata": {},
   "outputs": [],
   "source": []
  }
 ],
 "metadata": {
  "kernelspec": {
   "display_name": "Python 3",
   "language": "python",
   "name": "python3"
  },
  "language_info": {
   "codemirror_mode": {
    "name": "ipython",
    "version": 3
   },
   "file_extension": ".py",
   "mimetype": "text/x-python",
   "name": "python",
   "nbconvert_exporter": "python",
   "pygments_lexer": "ipython3",
   "version": "3.6.1"
  }
 },
 "nbformat": 4,
 "nbformat_minor": 2
}

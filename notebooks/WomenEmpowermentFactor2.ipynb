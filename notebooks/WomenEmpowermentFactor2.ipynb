{
 "cells": [
  {
   "cell_type": "code",
   "execution_count": 22,
   "metadata": {},
   "outputs": [],
   "source": [
    "import pandas as pd\n",
    "import numpy as np"
   ]
  },
  {
   "cell_type": "code",
   "execution_count": 23,
   "metadata": {},
   "outputs": [],
   "source": [
    "import matplotlib.pyplot as plt"
   ]
  },
  {
   "cell_type": "code",
   "execution_count": 24,
   "metadata": {},
   "outputs": [],
   "source": [
    "file = 'states.csv'"
   ]
  },
  {
   "cell_type": "code",
   "execution_count": 25,
   "metadata": {},
   "outputs": [],
   "source": [
    "data = pd.read_csv(file)"
   ]
  },
  {
   "cell_type": "code",
   "execution_count": 26,
   "metadata": {},
   "outputs": [
    {
     "name": "stdout",
     "output_type": "stream",
     "text": [
      "<class 'pandas.core.frame.DataFrame'>\n",
      "RangeIndex: 4218 entries, 0 to 4217\n",
      "Data columns (total 8 columns):\n",
      "state                 4218 non-null object\n",
      "indicator_id          4218 non-null object\n",
      "indicator             4181 non-null object\n",
      "indicator_category    4181 non-null object\n",
      "urban                 4084 non-null object\n",
      "rural                 4103 non-null object\n",
      "total                 4218 non-null object\n",
      "total_2005-06         3305 non-null object\n",
      "dtypes: object(8)\n",
      "memory usage: 263.7+ KB\n"
     ]
    }
   ],
   "source": [
    "data.info()"
   ]
  },
  {
   "cell_type": "code",
   "execution_count": 27,
   "metadata": {},
   "outputs": [],
   "source": [
    "data = data.dropna(axis=0, how='any', subset=['urban', 'indicator_category', 'indicator_id', 'rural', 'total'])"
   ]
  },
  {
   "cell_type": "code",
   "execution_count": 28,
   "metadata": {},
   "outputs": [
    {
     "data": {
      "text/html": [
       "<div>\n",
       "<style>\n",
       "    .dataframe thead tr:only-child th {\n",
       "        text-align: right;\n",
       "    }\n",
       "\n",
       "    .dataframe thead th {\n",
       "        text-align: left;\n",
       "    }\n",
       "\n",
       "    .dataframe tbody tr th {\n",
       "        vertical-align: top;\n",
       "    }\n",
       "</style>\n",
       "<table border=\"1\" class=\"dataframe\">\n",
       "  <thead>\n",
       "    <tr style=\"text-align: right;\">\n",
       "      <th></th>\n",
       "      <th>state</th>\n",
       "      <th>indicator_id</th>\n",
       "      <th>indicator</th>\n",
       "      <th>indicator_category</th>\n",
       "      <th>urban</th>\n",
       "      <th>rural</th>\n",
       "      <th>total</th>\n",
       "      <th>total_2005-06</th>\n",
       "    </tr>\n",
       "  </thead>\n",
       "  <tbody>\n",
       "    <tr>\n",
       "      <th>0</th>\n",
       "      <td>Andaman and Nicobar Islands</td>\n",
       "      <td>1</td>\n",
       "      <td>Population (female) age 6 years and above who ...</td>\n",
       "      <td>Population and Household Profile</td>\n",
       "      <td>87.6</td>\n",
       "      <td>82.6</td>\n",
       "      <td>84.7</td>\n",
       "      <td>NaN</td>\n",
       "    </tr>\n",
       "    <tr>\n",
       "      <th>1</th>\n",
       "      <td>Andaman and Nicobar Islands</td>\n",
       "      <td>2</td>\n",
       "      <td>Population below age 15 years (%)</td>\n",
       "      <td>Population and Household Profile</td>\n",
       "      <td>23.4</td>\n",
       "      <td>24.3</td>\n",
       "      <td>23.9</td>\n",
       "      <td>NaN</td>\n",
       "    </tr>\n",
       "    <tr>\n",
       "      <th>2</th>\n",
       "      <td>Andaman and Nicobar Islands</td>\n",
       "      <td>3</td>\n",
       "      <td>Sex ratio of the total population (females per...</td>\n",
       "      <td>Population and Household Profile</td>\n",
       "      <td>966</td>\n",
       "      <td>984</td>\n",
       "      <td>977</td>\n",
       "      <td>NaN</td>\n",
       "    </tr>\n",
       "    <tr>\n",
       "      <th>3</th>\n",
       "      <td>Andaman and Nicobar Islands</td>\n",
       "      <td>4</td>\n",
       "      <td>Sex ratio at birth for children born in the la...</td>\n",
       "      <td>Population and Household Profile</td>\n",
       "      <td>708</td>\n",
       "      <td>978</td>\n",
       "      <td>859</td>\n",
       "      <td>NaN</td>\n",
       "    </tr>\n",
       "    <tr>\n",
       "      <th>4</th>\n",
       "      <td>Andaman and Nicobar Islands</td>\n",
       "      <td>5</td>\n",
       "      <td>Children under age 5 years whose birth was reg...</td>\n",
       "      <td>Population and Household Profile</td>\n",
       "      <td>97.2</td>\n",
       "      <td>98.4</td>\n",
       "      <td>97.9</td>\n",
       "      <td>NaN</td>\n",
       "    </tr>\n",
       "  </tbody>\n",
       "</table>\n",
       "</div>"
      ],
      "text/plain": [
       "                         state indicator_id  \\\n",
       "0  Andaman and Nicobar Islands            1   \n",
       "1  Andaman and Nicobar Islands            2   \n",
       "2  Andaman and Nicobar Islands            3   \n",
       "3  Andaman and Nicobar Islands            4   \n",
       "4  Andaman and Nicobar Islands            5   \n",
       "\n",
       "                                           indicator  \\\n",
       "0  Population (female) age 6 years and above who ...   \n",
       "1                  Population below age 15 years (%)   \n",
       "2  Sex ratio of the total population (females per...   \n",
       "3  Sex ratio at birth for children born in the la...   \n",
       "4  Children under age 5 years whose birth was reg...   \n",
       "\n",
       "                  indicator_category urban rural total total_2005-06  \n",
       "0  Population and Household Profile   87.6  82.6  84.7           NaN  \n",
       "1  Population and Household Profile   23.4  24.3  23.9           NaN  \n",
       "2  Population and Household Profile    966   984   977           NaN  \n",
       "3  Population and Household Profile    708   978   859           NaN  \n",
       "4  Population and Household Profile   97.2  98.4  97.9           NaN  "
      ]
     },
     "execution_count": 28,
     "metadata": {},
     "output_type": "execute_result"
    }
   ],
   "source": [
    "data.head()"
   ]
  },
  {
   "cell_type": "code",
   "execution_count": 29,
   "metadata": {},
   "outputs": [
    {
     "name": "stdout",
     "output_type": "stream",
     "text": [
      "<class 'pandas.core.frame.DataFrame'>\n",
      "Int64Index: 4048 entries, 0 to 4217\n",
      "Data columns (total 8 columns):\n",
      "state                 4048 non-null object\n",
      "indicator_id          4048 non-null object\n",
      "indicator             4048 non-null object\n",
      "indicator_category    4048 non-null object\n",
      "urban                 4048 non-null object\n",
      "rural                 4048 non-null object\n",
      "total                 4048 non-null object\n",
      "total_2005-06         3273 non-null object\n",
      "dtypes: object(8)\n",
      "memory usage: 284.6+ KB\n"
     ]
    }
   ],
   "source": [
    "data.info()"
   ]
  },
  {
   "cell_type": "code",
   "execution_count": 30,
   "metadata": {},
   "outputs": [
    {
     "name": "stdout",
     "output_type": "stream",
     "text": [
      "<class 'pandas.core.frame.DataFrame'>\n",
      "Int64Index: 4048 entries, 0 to 4217\n",
      "Data columns (total 8 columns):\n",
      "state                 4048 non-null object\n",
      "indicator_id          4048 non-null object\n",
      "indicator             4048 non-null object\n",
      "indicator_category    4048 non-null object\n",
      "urban                 4048 non-null object\n",
      "rural                 4048 non-null object\n",
      "total                 4048 non-null object\n",
      "total_2005-06         3273 non-null object\n",
      "dtypes: object(8)\n",
      "memory usage: 284.6+ KB\n",
      "None\n"
     ]
    }
   ],
   "source": [
    "print(data.info())"
   ]
  },
  {
   "cell_type": "code",
   "execution_count": 31,
   "metadata": {},
   "outputs": [],
   "source": [
    "data = data[data['indicator_id'] == '106']"
   ]
  },
  {
   "cell_type": "code",
   "execution_count": 32,
   "metadata": {},
   "outputs": [],
   "source": [
    "data['urban'] = pd.to_numeric(data['urban'], errors='coerce')\n",
    "data['rural'] = pd.to_numeric(data['rural'], errors='coerce')\n",
    "data['total'] = pd.to_numeric(data['total'], errors='coerce')\n",
    "\n",
    "data['indicator_id'] = pd.to_numeric(data['indicator_id'], errors='coerce')"
   ]
  },
  {
   "cell_type": "code",
   "execution_count": 33,
   "metadata": {},
   "outputs": [
    {
     "data": {
      "text/html": [
       "<div>\n",
       "<style>\n",
       "    .dataframe thead tr:only-child th {\n",
       "        text-align: right;\n",
       "    }\n",
       "\n",
       "    .dataframe thead th {\n",
       "        text-align: left;\n",
       "    }\n",
       "\n",
       "    .dataframe tbody tr th {\n",
       "        vertical-align: top;\n",
       "    }\n",
       "</style>\n",
       "<table border=\"1\" class=\"dataframe\">\n",
       "  <thead>\n",
       "    <tr style=\"text-align: right;\">\n",
       "      <th></th>\n",
       "      <th>state</th>\n",
       "      <th>indicator_id</th>\n",
       "      <th>indicator</th>\n",
       "      <th>indicator_category</th>\n",
       "      <th>urban</th>\n",
       "      <th>rural</th>\n",
       "      <th>total</th>\n",
       "      <th>total_2005-06</th>\n",
       "    </tr>\n",
       "  </thead>\n",
       "  <tbody>\n",
       "    <tr>\n",
       "      <th>104</th>\n",
       "      <td>Andaman and Nicobar Islands</td>\n",
       "      <td>106</td>\n",
       "      <td>Women having a bank or savings account that th...</td>\n",
       "      <td>Women's Empowerment and Gender Based Violence ...</td>\n",
       "      <td>90.6</td>\n",
       "      <td>74.9</td>\n",
       "      <td>81.8</td>\n",
       "      <td>NaN</td>\n",
       "    </tr>\n",
       "    <tr>\n",
       "      <th>219</th>\n",
       "      <td>Andhra Pradesh</td>\n",
       "      <td>106</td>\n",
       "      <td>Women having a bank or savings account that th...</td>\n",
       "      <td>Women's Empowerment and Gender Based Violence ...</td>\n",
       "      <td>58.9</td>\n",
       "      <td>69.9</td>\n",
       "      <td>66.3</td>\n",
       "      <td>NaN</td>\n",
       "    </tr>\n",
       "    <tr>\n",
       "      <th>332</th>\n",
       "      <td>Arunachal Pradesh</td>\n",
       "      <td>106</td>\n",
       "      <td>Women having a bank or savings account that th...</td>\n",
       "      <td>Women's Empowerment and Gender Based Violence ...</td>\n",
       "      <td>72.4</td>\n",
       "      <td>51.1</td>\n",
       "      <td>56.6</td>\n",
       "      <td>19</td>\n",
       "    </tr>\n",
       "    <tr>\n",
       "      <th>446</th>\n",
       "      <td>Assam</td>\n",
       "      <td>106</td>\n",
       "      <td>Women having a bank or savings account that th...</td>\n",
       "      <td>Women's Empowerment and Gender Based Violence ...</td>\n",
       "      <td>61.5</td>\n",
       "      <td>42.1</td>\n",
       "      <td>45.4</td>\n",
       "      <td>11.7</td>\n",
       "    </tr>\n",
       "    <tr>\n",
       "      <th>560</th>\n",
       "      <td>Bihar</td>\n",
       "      <td>106</td>\n",
       "      <td>Women having a bank or savings account that th...</td>\n",
       "      <td>Women's Empowerment and Gender Based Violence ...</td>\n",
       "      <td>36.9</td>\n",
       "      <td>24.6</td>\n",
       "      <td>26.4</td>\n",
       "      <td>8.2</td>\n",
       "    </tr>\n",
       "  </tbody>\n",
       "</table>\n",
       "</div>"
      ],
      "text/plain": [
       "                           state  indicator_id  \\\n",
       "104  Andaman and Nicobar Islands           106   \n",
       "219               Andhra Pradesh           106   \n",
       "332            Arunachal Pradesh           106   \n",
       "446                        Assam           106   \n",
       "560                        Bihar           106   \n",
       "\n",
       "                                             indicator  \\\n",
       "104  Women having a bank or savings account that th...   \n",
       "219  Women having a bank or savings account that th...   \n",
       "332  Women having a bank or savings account that th...   \n",
       "446  Women having a bank or savings account that th...   \n",
       "560  Women having a bank or savings account that th...   \n",
       "\n",
       "                                    indicator_category  urban  rural  total  \\\n",
       "104  Women's Empowerment and Gender Based Violence ...   90.6   74.9   81.8   \n",
       "219  Women's Empowerment and Gender Based Violence ...   58.9   69.9   66.3   \n",
       "332  Women's Empowerment and Gender Based Violence ...   72.4   51.1   56.6   \n",
       "446  Women's Empowerment and Gender Based Violence ...   61.5   42.1   45.4   \n",
       "560  Women's Empowerment and Gender Based Violence ...   36.9   24.6   26.4   \n",
       "\n",
       "    total_2005-06  \n",
       "104           NaN  \n",
       "219           NaN  \n",
       "332            19  \n",
       "446          11.7  \n",
       "560           8.2  "
      ]
     },
     "execution_count": 33,
     "metadata": {},
     "output_type": "execute_result"
    }
   ],
   "source": [
    "data.head()"
   ]
  },
  {
   "cell_type": "code",
   "execution_count": 34,
   "metadata": {},
   "outputs": [
    {
     "name": "stdout",
     "output_type": "stream",
     "text": [
      "<class 'pandas.core.frame.DataFrame'>\n",
      "Int64Index: 36 entries, 104 to 4209\n",
      "Data columns (total 8 columns):\n",
      "state                 36 non-null object\n",
      "indicator_id          36 non-null int64\n",
      "indicator             36 non-null object\n",
      "indicator_category    36 non-null object\n",
      "urban                 36 non-null float64\n",
      "rural                 35 non-null float64\n",
      "total                 36 non-null float64\n",
      "total_2005-06         29 non-null object\n",
      "dtypes: float64(3), int64(1), object(4)\n",
      "memory usage: 2.5+ KB\n"
     ]
    }
   ],
   "source": [
    "data.info()"
   ]
  },
  {
   "cell_type": "code",
   "execution_count": 35,
   "metadata": {},
   "outputs": [],
   "source": [
    "data = data.drop('indicator_id', axis=1)"
   ]
  },
  {
   "cell_type": "code",
   "execution_count": 36,
   "metadata": {},
   "outputs": [],
   "source": [
    "data = data.drop('indicator_category', axis=1)"
   ]
  },
  {
   "cell_type": "code",
   "execution_count": 37,
   "metadata": {},
   "outputs": [
    {
     "data": {
      "text/html": [
       "<div>\n",
       "<style>\n",
       "    .dataframe thead tr:only-child th {\n",
       "        text-align: right;\n",
       "    }\n",
       "\n",
       "    .dataframe thead th {\n",
       "        text-align: left;\n",
       "    }\n",
       "\n",
       "    .dataframe tbody tr th {\n",
       "        vertical-align: top;\n",
       "    }\n",
       "</style>\n",
       "<table border=\"1\" class=\"dataframe\">\n",
       "  <thead>\n",
       "    <tr style=\"text-align: right;\">\n",
       "      <th></th>\n",
       "      <th>state</th>\n",
       "      <th>indicator</th>\n",
       "      <th>urban</th>\n",
       "      <th>rural</th>\n",
       "      <th>total</th>\n",
       "      <th>total_2005-06</th>\n",
       "    </tr>\n",
       "  </thead>\n",
       "  <tbody>\n",
       "    <tr>\n",
       "      <th>104</th>\n",
       "      <td>Andaman and Nicobar Islands</td>\n",
       "      <td>Women having a bank or savings account that th...</td>\n",
       "      <td>90.6</td>\n",
       "      <td>74.9</td>\n",
       "      <td>81.8</td>\n",
       "      <td>NaN</td>\n",
       "    </tr>\n",
       "    <tr>\n",
       "      <th>219</th>\n",
       "      <td>Andhra Pradesh</td>\n",
       "      <td>Women having a bank or savings account that th...</td>\n",
       "      <td>58.9</td>\n",
       "      <td>69.9</td>\n",
       "      <td>66.3</td>\n",
       "      <td>NaN</td>\n",
       "    </tr>\n",
       "    <tr>\n",
       "      <th>332</th>\n",
       "      <td>Arunachal Pradesh</td>\n",
       "      <td>Women having a bank or savings account that th...</td>\n",
       "      <td>72.4</td>\n",
       "      <td>51.1</td>\n",
       "      <td>56.6</td>\n",
       "      <td>19</td>\n",
       "    </tr>\n",
       "    <tr>\n",
       "      <th>446</th>\n",
       "      <td>Assam</td>\n",
       "      <td>Women having a bank or savings account that th...</td>\n",
       "      <td>61.5</td>\n",
       "      <td>42.1</td>\n",
       "      <td>45.4</td>\n",
       "      <td>11.7</td>\n",
       "    </tr>\n",
       "    <tr>\n",
       "      <th>560</th>\n",
       "      <td>Bihar</td>\n",
       "      <td>Women having a bank or savings account that th...</td>\n",
       "      <td>36.9</td>\n",
       "      <td>24.6</td>\n",
       "      <td>26.4</td>\n",
       "      <td>8.2</td>\n",
       "    </tr>\n",
       "  </tbody>\n",
       "</table>\n",
       "</div>"
      ],
      "text/plain": [
       "                           state  \\\n",
       "104  Andaman and Nicobar Islands   \n",
       "219               Andhra Pradesh   \n",
       "332            Arunachal Pradesh   \n",
       "446                        Assam   \n",
       "560                        Bihar   \n",
       "\n",
       "                                             indicator  urban  rural  total  \\\n",
       "104  Women having a bank or savings account that th...   90.6   74.9   81.8   \n",
       "219  Women having a bank or savings account that th...   58.9   69.9   66.3   \n",
       "332  Women having a bank or savings account that th...   72.4   51.1   56.6   \n",
       "446  Women having a bank or savings account that th...   61.5   42.1   45.4   \n",
       "560  Women having a bank or savings account that th...   36.9   24.6   26.4   \n",
       "\n",
       "    total_2005-06  \n",
       "104           NaN  \n",
       "219           NaN  \n",
       "332            19  \n",
       "446          11.7  \n",
       "560           8.2  "
      ]
     },
     "execution_count": 37,
     "metadata": {},
     "output_type": "execute_result"
    }
   ],
   "source": [
    "data.head()"
   ]
  },
  {
   "cell_type": "code",
   "execution_count": 38,
   "metadata": {},
   "outputs": [],
   "source": [
    "data = data.drop('total_2005-06', axis=1)"
   ]
  },
  {
   "cell_type": "code",
   "execution_count": 39,
   "metadata": {},
   "outputs": [
    {
     "data": {
      "text/html": [
       "<div>\n",
       "<style>\n",
       "    .dataframe thead tr:only-child th {\n",
       "        text-align: right;\n",
       "    }\n",
       "\n",
       "    .dataframe thead th {\n",
       "        text-align: left;\n",
       "    }\n",
       "\n",
       "    .dataframe tbody tr th {\n",
       "        vertical-align: top;\n",
       "    }\n",
       "</style>\n",
       "<table border=\"1\" class=\"dataframe\">\n",
       "  <thead>\n",
       "    <tr style=\"text-align: right;\">\n",
       "      <th></th>\n",
       "      <th>state</th>\n",
       "      <th>indicator</th>\n",
       "      <th>urban</th>\n",
       "      <th>rural</th>\n",
       "      <th>total</th>\n",
       "    </tr>\n",
       "  </thead>\n",
       "  <tbody>\n",
       "    <tr>\n",
       "      <th>104</th>\n",
       "      <td>Andaman and Nicobar Islands</td>\n",
       "      <td>Women having a bank or savings account that th...</td>\n",
       "      <td>90.6</td>\n",
       "      <td>74.9</td>\n",
       "      <td>81.8</td>\n",
       "    </tr>\n",
       "    <tr>\n",
       "      <th>219</th>\n",
       "      <td>Andhra Pradesh</td>\n",
       "      <td>Women having a bank or savings account that th...</td>\n",
       "      <td>58.9</td>\n",
       "      <td>69.9</td>\n",
       "      <td>66.3</td>\n",
       "    </tr>\n",
       "    <tr>\n",
       "      <th>332</th>\n",
       "      <td>Arunachal Pradesh</td>\n",
       "      <td>Women having a bank or savings account that th...</td>\n",
       "      <td>72.4</td>\n",
       "      <td>51.1</td>\n",
       "      <td>56.6</td>\n",
       "    </tr>\n",
       "    <tr>\n",
       "      <th>446</th>\n",
       "      <td>Assam</td>\n",
       "      <td>Women having a bank or savings account that th...</td>\n",
       "      <td>61.5</td>\n",
       "      <td>42.1</td>\n",
       "      <td>45.4</td>\n",
       "    </tr>\n",
       "    <tr>\n",
       "      <th>560</th>\n",
       "      <td>Bihar</td>\n",
       "      <td>Women having a bank or savings account that th...</td>\n",
       "      <td>36.9</td>\n",
       "      <td>24.6</td>\n",
       "      <td>26.4</td>\n",
       "    </tr>\n",
       "  </tbody>\n",
       "</table>\n",
       "</div>"
      ],
      "text/plain": [
       "                           state  \\\n",
       "104  Andaman and Nicobar Islands   \n",
       "219               Andhra Pradesh   \n",
       "332            Arunachal Pradesh   \n",
       "446                        Assam   \n",
       "560                        Bihar   \n",
       "\n",
       "                                             indicator  urban  rural  total  \n",
       "104  Women having a bank or savings account that th...   90.6   74.9   81.8  \n",
       "219  Women having a bank or savings account that th...   58.9   69.9   66.3  \n",
       "332  Women having a bank or savings account that th...   72.4   51.1   56.6  \n",
       "446  Women having a bank or savings account that th...   61.5   42.1   45.4  \n",
       "560  Women having a bank or savings account that th...   36.9   24.6   26.4  "
      ]
     },
     "execution_count": 39,
     "metadata": {},
     "output_type": "execute_result"
    }
   ],
   "source": [
    "data.head()"
   ]
  },
  {
   "cell_type": "code",
   "execution_count": 40,
   "metadata": {},
   "outputs": [],
   "source": [
    "data = data.drop('indicator', axis=1)"
   ]
  },
  {
   "cell_type": "code",
   "execution_count": 41,
   "metadata": {},
   "outputs": [
    {
     "data": {
      "text/html": [
       "<div>\n",
       "<style>\n",
       "    .dataframe thead tr:only-child th {\n",
       "        text-align: right;\n",
       "    }\n",
       "\n",
       "    .dataframe thead th {\n",
       "        text-align: left;\n",
       "    }\n",
       "\n",
       "    .dataframe tbody tr th {\n",
       "        vertical-align: top;\n",
       "    }\n",
       "</style>\n",
       "<table border=\"1\" class=\"dataframe\">\n",
       "  <thead>\n",
       "    <tr style=\"text-align: right;\">\n",
       "      <th></th>\n",
       "      <th>state</th>\n",
       "      <th>urban</th>\n",
       "      <th>rural</th>\n",
       "      <th>total</th>\n",
       "    </tr>\n",
       "  </thead>\n",
       "  <tbody>\n",
       "    <tr>\n",
       "      <th>104</th>\n",
       "      <td>Andaman and Nicobar Islands</td>\n",
       "      <td>90.6</td>\n",
       "      <td>74.9</td>\n",
       "      <td>81.8</td>\n",
       "    </tr>\n",
       "    <tr>\n",
       "      <th>219</th>\n",
       "      <td>Andhra Pradesh</td>\n",
       "      <td>58.9</td>\n",
       "      <td>69.9</td>\n",
       "      <td>66.3</td>\n",
       "    </tr>\n",
       "    <tr>\n",
       "      <th>332</th>\n",
       "      <td>Arunachal Pradesh</td>\n",
       "      <td>72.4</td>\n",
       "      <td>51.1</td>\n",
       "      <td>56.6</td>\n",
       "    </tr>\n",
       "    <tr>\n",
       "      <th>446</th>\n",
       "      <td>Assam</td>\n",
       "      <td>61.5</td>\n",
       "      <td>42.1</td>\n",
       "      <td>45.4</td>\n",
       "    </tr>\n",
       "    <tr>\n",
       "      <th>560</th>\n",
       "      <td>Bihar</td>\n",
       "      <td>36.9</td>\n",
       "      <td>24.6</td>\n",
       "      <td>26.4</td>\n",
       "    </tr>\n",
       "  </tbody>\n",
       "</table>\n",
       "</div>"
      ],
      "text/plain": [
       "                           state  urban  rural  total\n",
       "104  Andaman and Nicobar Islands   90.6   74.9   81.8\n",
       "219               Andhra Pradesh   58.9   69.9   66.3\n",
       "332            Arunachal Pradesh   72.4   51.1   56.6\n",
       "446                        Assam   61.5   42.1   45.4\n",
       "560                        Bihar   36.9   24.6   26.4"
      ]
     },
     "execution_count": 41,
     "metadata": {},
     "output_type": "execute_result"
    }
   ],
   "source": [
    "data.head()"
   ]
  },
  {
   "cell_type": "code",
   "execution_count": 42,
   "metadata": {},
   "outputs": [],
   "source": [
    "from collections import OrderedDict\n",
    "result_color = OrderedDict([(\"urban\",\"red\"),(\"rural\", \"green\"),(\"total\",\"black\"),])\n",
    "data.to_csv('ownabank.csv', index=False)"
   ]
  },
  {
   "cell_type": "code",
   "execution_count": null,
   "metadata": {},
   "outputs": [],
   "source": []
  },
  {
   "cell_type": "code",
   "execution_count": null,
   "metadata": {},
   "outputs": [],
   "source": []
  },
  {
   "cell_type": "code",
   "execution_count": null,
   "metadata": {},
   "outputs": [],
   "source": []
  },
  {
   "cell_type": "code",
   "execution_count": null,
   "metadata": {},
   "outputs": [],
   "source": []
  },
  {
   "cell_type": "code",
   "execution_count": null,
   "metadata": {},
   "outputs": [],
   "source": []
  },
  {
   "cell_type": "code",
   "execution_count": null,
   "metadata": {},
   "outputs": [],
   "source": []
  }
 ],
 "metadata": {
  "kernelspec": {
   "display_name": "Python 3",
   "language": "python",
   "name": "python3"
  },
  "language_info": {
   "codemirror_mode": {
    "name": "ipython",
    "version": 3
   },
   "file_extension": ".py",
   "mimetype": "text/x-python",
   "name": "python",
   "nbconvert_exporter": "python",
   "pygments_lexer": "ipython3",
   "version": "3.6.1"
  }
 },
 "nbformat": 4,
 "nbformat_minor": 2
}

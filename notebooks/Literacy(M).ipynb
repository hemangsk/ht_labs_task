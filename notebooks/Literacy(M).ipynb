{
 "cells": [
  {
   "cell_type": "code",
   "execution_count": 1,
   "metadata": {},
   "outputs": [],
   "source": [
    "import pandas as pd\n",
    "import numpy as np"
   ]
  },
  {
   "cell_type": "code",
   "execution_count": 2,
   "metadata": {},
   "outputs": [],
   "source": [
    "import matplotlib.pyplot as plt"
   ]
  },
  {
   "cell_type": "code",
   "execution_count": 3,
   "metadata": {},
   "outputs": [],
   "source": [
    "file = 'states.csv'"
   ]
  },
  {
   "cell_type": "code",
   "execution_count": 4,
   "metadata": {},
   "outputs": [],
   "source": [
    "data = pd.read_csv(file)"
   ]
  },
  {
   "cell_type": "code",
   "execution_count": 5,
   "metadata": {},
   "outputs": [
    {
     "name": "stdout",
     "output_type": "stream",
     "text": [
      "<class 'pandas.core.frame.DataFrame'>\n",
      "RangeIndex: 4218 entries, 0 to 4217\n",
      "Data columns (total 8 columns):\n",
      "state                 4218 non-null object\n",
      "indicator_id          4218 non-null object\n",
      "indicator             4181 non-null object\n",
      "indicator_category    4181 non-null object\n",
      "urban                 4084 non-null object\n",
      "rural                 4103 non-null object\n",
      "total                 4218 non-null object\n",
      "total_2005-06         3305 non-null object\n",
      "dtypes: object(8)\n",
      "memory usage: 263.7+ KB\n"
     ]
    }
   ],
   "source": [
    "data.info()"
   ]
  },
  {
   "cell_type": "code",
   "execution_count": 6,
   "metadata": {},
   "outputs": [],
   "source": [
    "data = data.dropna(axis=0, how='any', subset=['urban', 'indicator_category', 'indicator_id', 'rural', 'total'])"
   ]
  },
  {
   "cell_type": "code",
   "execution_count": 7,
   "metadata": {},
   "outputs": [
    {
     "data": {
      "text/html": [
       "<div>\n",
       "<style>\n",
       "    .dataframe thead tr:only-child th {\n",
       "        text-align: right;\n",
       "    }\n",
       "\n",
       "    .dataframe thead th {\n",
       "        text-align: left;\n",
       "    }\n",
       "\n",
       "    .dataframe tbody tr th {\n",
       "        vertical-align: top;\n",
       "    }\n",
       "</style>\n",
       "<table border=\"1\" class=\"dataframe\">\n",
       "  <thead>\n",
       "    <tr style=\"text-align: right;\">\n",
       "      <th></th>\n",
       "      <th>state</th>\n",
       "      <th>indicator_id</th>\n",
       "      <th>indicator</th>\n",
       "      <th>indicator_category</th>\n",
       "      <th>urban</th>\n",
       "      <th>rural</th>\n",
       "      <th>total</th>\n",
       "      <th>total_2005-06</th>\n",
       "    </tr>\n",
       "  </thead>\n",
       "  <tbody>\n",
       "    <tr>\n",
       "      <th>0</th>\n",
       "      <td>Andaman and Nicobar Islands</td>\n",
       "      <td>1</td>\n",
       "      <td>Population (female) age 6 years and above who ...</td>\n",
       "      <td>Population and Household Profile</td>\n",
       "      <td>87.6</td>\n",
       "      <td>82.6</td>\n",
       "      <td>84.7</td>\n",
       "      <td>NaN</td>\n",
       "    </tr>\n",
       "    <tr>\n",
       "      <th>1</th>\n",
       "      <td>Andaman and Nicobar Islands</td>\n",
       "      <td>2</td>\n",
       "      <td>Population below age 15 years (%)</td>\n",
       "      <td>Population and Household Profile</td>\n",
       "      <td>23.4</td>\n",
       "      <td>24.3</td>\n",
       "      <td>23.9</td>\n",
       "      <td>NaN</td>\n",
       "    </tr>\n",
       "    <tr>\n",
       "      <th>2</th>\n",
       "      <td>Andaman and Nicobar Islands</td>\n",
       "      <td>3</td>\n",
       "      <td>Sex ratio of the total population (females per...</td>\n",
       "      <td>Population and Household Profile</td>\n",
       "      <td>966</td>\n",
       "      <td>984</td>\n",
       "      <td>977</td>\n",
       "      <td>NaN</td>\n",
       "    </tr>\n",
       "    <tr>\n",
       "      <th>3</th>\n",
       "      <td>Andaman and Nicobar Islands</td>\n",
       "      <td>4</td>\n",
       "      <td>Sex ratio at birth for children born in the la...</td>\n",
       "      <td>Population and Household Profile</td>\n",
       "      <td>708</td>\n",
       "      <td>978</td>\n",
       "      <td>859</td>\n",
       "      <td>NaN</td>\n",
       "    </tr>\n",
       "    <tr>\n",
       "      <th>4</th>\n",
       "      <td>Andaman and Nicobar Islands</td>\n",
       "      <td>5</td>\n",
       "      <td>Children under age 5 years whose birth was reg...</td>\n",
       "      <td>Population and Household Profile</td>\n",
       "      <td>97.2</td>\n",
       "      <td>98.4</td>\n",
       "      <td>97.9</td>\n",
       "      <td>NaN</td>\n",
       "    </tr>\n",
       "  </tbody>\n",
       "</table>\n",
       "</div>"
      ],
      "text/plain": [
       "                         state indicator_id  \\\n",
       "0  Andaman and Nicobar Islands            1   \n",
       "1  Andaman and Nicobar Islands            2   \n",
       "2  Andaman and Nicobar Islands            3   \n",
       "3  Andaman and Nicobar Islands            4   \n",
       "4  Andaman and Nicobar Islands            5   \n",
       "\n",
       "                                           indicator  \\\n",
       "0  Population (female) age 6 years and above who ...   \n",
       "1                  Population below age 15 years (%)   \n",
       "2  Sex ratio of the total population (females per...   \n",
       "3  Sex ratio at birth for children born in the la...   \n",
       "4  Children under age 5 years whose birth was reg...   \n",
       "\n",
       "                  indicator_category urban rural total total_2005-06  \n",
       "0  Population and Household Profile   87.6  82.6  84.7           NaN  \n",
       "1  Population and Household Profile   23.4  24.3  23.9           NaN  \n",
       "2  Population and Household Profile    966   984   977           NaN  \n",
       "3  Population and Household Profile    708   978   859           NaN  \n",
       "4  Population and Household Profile   97.2  98.4  97.9           NaN  "
      ]
     },
     "execution_count": 7,
     "metadata": {},
     "output_type": "execute_result"
    }
   ],
   "source": [
    "data.head()"
   ]
  },
  {
   "cell_type": "code",
   "execution_count": 8,
   "metadata": {},
   "outputs": [
    {
     "name": "stdout",
     "output_type": "stream",
     "text": [
      "<class 'pandas.core.frame.DataFrame'>\n",
      "Int64Index: 4048 entries, 0 to 4217\n",
      "Data columns (total 8 columns):\n",
      "state                 4048 non-null object\n",
      "indicator_id          4048 non-null object\n",
      "indicator             4048 non-null object\n",
      "indicator_category    4048 non-null object\n",
      "urban                 4048 non-null object\n",
      "rural                 4048 non-null object\n",
      "total                 4048 non-null object\n",
      "total_2005-06         3273 non-null object\n",
      "dtypes: object(8)\n",
      "memory usage: 284.6+ KB\n"
     ]
    }
   ],
   "source": [
    "data.info()"
   ]
  },
  {
   "cell_type": "code",
   "execution_count": 9,
   "metadata": {},
   "outputs": [
    {
     "name": "stdout",
     "output_type": "stream",
     "text": [
      "<class 'pandas.core.frame.DataFrame'>\n",
      "Int64Index: 4048 entries, 0 to 4217\n",
      "Data columns (total 8 columns):\n",
      "state                 4048 non-null object\n",
      "indicator_id          4048 non-null object\n",
      "indicator             4048 non-null object\n",
      "indicator_category    4048 non-null object\n",
      "urban                 4048 non-null object\n",
      "rural                 4048 non-null object\n",
      "total                 4048 non-null object\n",
      "total_2005-06         3273 non-null object\n",
      "dtypes: object(8)\n",
      "memory usage: 284.6+ KB\n",
      "None\n"
     ]
    }
   ],
   "source": [
    "print(data.info())"
   ]
  },
  {
   "cell_type": "code",
   "execution_count": 10,
   "metadata": {},
   "outputs": [],
   "source": [
    "data = data[data['indicator_id'] == '13']"
   ]
  },
  {
   "cell_type": "code",
   "execution_count": 11,
   "metadata": {},
   "outputs": [],
   "source": [
    "data['urban'] = pd.to_numeric(data['urban'], errors='coerce')\n",
    "data['rural'] = pd.to_numeric(data['rural'], errors='coerce')\n",
    "data['total'] = pd.to_numeric(data['total'], errors='coerce')\n",
    "\n",
    "data['indicator_id'] = pd.to_numeric(data['indicator_id'], errors='coerce')"
   ]
  },
  {
   "cell_type": "code",
   "execution_count": 12,
   "metadata": {},
   "outputs": [
    {
     "data": {
      "text/html": [
       "<div>\n",
       "<style>\n",
       "    .dataframe thead tr:only-child th {\n",
       "        text-align: right;\n",
       "    }\n",
       "\n",
       "    .dataframe thead th {\n",
       "        text-align: left;\n",
       "    }\n",
       "\n",
       "    .dataframe tbody tr th {\n",
       "        vertical-align: top;\n",
       "    }\n",
       "</style>\n",
       "<table border=\"1\" class=\"dataframe\">\n",
       "  <thead>\n",
       "    <tr style=\"text-align: right;\">\n",
       "      <th></th>\n",
       "      <th>state</th>\n",
       "      <th>indicator_id</th>\n",
       "      <th>indicator</th>\n",
       "      <th>indicator_category</th>\n",
       "      <th>urban</th>\n",
       "      <th>rural</th>\n",
       "      <th>total</th>\n",
       "      <th>total_2005-06</th>\n",
       "    </tr>\n",
       "  </thead>\n",
       "  <tbody>\n",
       "    <tr>\n",
       "      <th>12</th>\n",
       "      <td>Andaman and Nicobar Islands</td>\n",
       "      <td>13</td>\n",
       "      <td>Men who are literate (%)</td>\n",
       "      <td>Characteristics of Adults (age 15-49)</td>\n",
       "      <td>96.1</td>\n",
       "      <td>83.3</td>\n",
       "      <td>88.5</td>\n",
       "      <td>NaN</td>\n",
       "    </tr>\n",
       "    <tr>\n",
       "      <th>127</th>\n",
       "      <td>Andhra Pradesh</td>\n",
       "      <td>13</td>\n",
       "      <td>Men who are literate (%)</td>\n",
       "      <td>Characteristics of Adults (age 15-49)</td>\n",
       "      <td>90.2</td>\n",
       "      <td>73.6</td>\n",
       "      <td>79.4</td>\n",
       "      <td>NaN</td>\n",
       "    </tr>\n",
       "    <tr>\n",
       "      <th>240</th>\n",
       "      <td>Arunachal Pradesh</td>\n",
       "      <td>13</td>\n",
       "      <td>Men who are literate (%)</td>\n",
       "      <td>Characteristics of Adults (age 15-49)</td>\n",
       "      <td>91.4</td>\n",
       "      <td>81.9</td>\n",
       "      <td>84.5</td>\n",
       "      <td>78.9</td>\n",
       "    </tr>\n",
       "    <tr>\n",
       "      <th>354</th>\n",
       "      <td>Assam</td>\n",
       "      <td>13</td>\n",
       "      <td>Men who are literate (%)</td>\n",
       "      <td>Characteristics of Adults (age 15-49)</td>\n",
       "      <td>93.2</td>\n",
       "      <td>80.7</td>\n",
       "      <td>82.8</td>\n",
       "      <td>76.4</td>\n",
       "    </tr>\n",
       "    <tr>\n",
       "      <th>468</th>\n",
       "      <td>Bihar</td>\n",
       "      <td>13</td>\n",
       "      <td>Men who are literate (%)</td>\n",
       "      <td>Characteristics of Adults (age 15-49)</td>\n",
       "      <td>88.8</td>\n",
       "      <td>75.3</td>\n",
       "      <td>77.8</td>\n",
       "      <td>70.4</td>\n",
       "    </tr>\n",
       "  </tbody>\n",
       "</table>\n",
       "</div>"
      ],
      "text/plain": [
       "                           state  indicator_id                 indicator  \\\n",
       "12   Andaman and Nicobar Islands            13  Men who are literate (%)   \n",
       "127               Andhra Pradesh            13  Men who are literate (%)   \n",
       "240            Arunachal Pradesh            13  Men who are literate (%)   \n",
       "354                        Assam            13  Men who are literate (%)   \n",
       "468                        Bihar            13  Men who are literate (%)   \n",
       "\n",
       "                         indicator_category  urban  rural  total total_2005-06  \n",
       "12   Characteristics of Adults (age 15-49)    96.1   83.3   88.5           NaN  \n",
       "127  Characteristics of Adults (age 15-49)    90.2   73.6   79.4           NaN  \n",
       "240  Characteristics of Adults (age 15-49)    91.4   81.9   84.5          78.9  \n",
       "354  Characteristics of Adults (age 15-49)    93.2   80.7   82.8          76.4  \n",
       "468  Characteristics of Adults (age 15-49)    88.8   75.3   77.8          70.4  "
      ]
     },
     "execution_count": 12,
     "metadata": {},
     "output_type": "execute_result"
    }
   ],
   "source": [
    "data.head()"
   ]
  },
  {
   "cell_type": "code",
   "execution_count": 13,
   "metadata": {},
   "outputs": [
    {
     "name": "stdout",
     "output_type": "stream",
     "text": [
      "<class 'pandas.core.frame.DataFrame'>\n",
      "Int64Index: 36 entries, 12 to 4117\n",
      "Data columns (total 8 columns):\n",
      "state                 36 non-null object\n",
      "indicator_id          36 non-null int64\n",
      "indicator             36 non-null object\n",
      "indicator_category    36 non-null object\n",
      "urban                 36 non-null float64\n",
      "rural                 35 non-null float64\n",
      "total                 36 non-null float64\n",
      "total_2005-06         29 non-null object\n",
      "dtypes: float64(3), int64(1), object(4)\n",
      "memory usage: 2.5+ KB\n"
     ]
    }
   ],
   "source": [
    "data.info()"
   ]
  },
  {
   "cell_type": "code",
   "execution_count": 14,
   "metadata": {},
   "outputs": [],
   "source": [
    "data = data.drop('indicator_id', axis=1)"
   ]
  },
  {
   "cell_type": "code",
   "execution_count": 15,
   "metadata": {},
   "outputs": [],
   "source": [
    "data = data.drop('indicator_category', axis=1)"
   ]
  },
  {
   "cell_type": "code",
   "execution_count": 16,
   "metadata": {},
   "outputs": [
    {
     "data": {
      "text/html": [
       "<div>\n",
       "<style>\n",
       "    .dataframe thead tr:only-child th {\n",
       "        text-align: right;\n",
       "    }\n",
       "\n",
       "    .dataframe thead th {\n",
       "        text-align: left;\n",
       "    }\n",
       "\n",
       "    .dataframe tbody tr th {\n",
       "        vertical-align: top;\n",
       "    }\n",
       "</style>\n",
       "<table border=\"1\" class=\"dataframe\">\n",
       "  <thead>\n",
       "    <tr style=\"text-align: right;\">\n",
       "      <th></th>\n",
       "      <th>state</th>\n",
       "      <th>indicator</th>\n",
       "      <th>urban</th>\n",
       "      <th>rural</th>\n",
       "      <th>total</th>\n",
       "      <th>total_2005-06</th>\n",
       "    </tr>\n",
       "  </thead>\n",
       "  <tbody>\n",
       "    <tr>\n",
       "      <th>12</th>\n",
       "      <td>Andaman and Nicobar Islands</td>\n",
       "      <td>Men who are literate (%)</td>\n",
       "      <td>96.1</td>\n",
       "      <td>83.3</td>\n",
       "      <td>88.5</td>\n",
       "      <td>NaN</td>\n",
       "    </tr>\n",
       "    <tr>\n",
       "      <th>127</th>\n",
       "      <td>Andhra Pradesh</td>\n",
       "      <td>Men who are literate (%)</td>\n",
       "      <td>90.2</td>\n",
       "      <td>73.6</td>\n",
       "      <td>79.4</td>\n",
       "      <td>NaN</td>\n",
       "    </tr>\n",
       "    <tr>\n",
       "      <th>240</th>\n",
       "      <td>Arunachal Pradesh</td>\n",
       "      <td>Men who are literate (%)</td>\n",
       "      <td>91.4</td>\n",
       "      <td>81.9</td>\n",
       "      <td>84.5</td>\n",
       "      <td>78.9</td>\n",
       "    </tr>\n",
       "    <tr>\n",
       "      <th>354</th>\n",
       "      <td>Assam</td>\n",
       "      <td>Men who are literate (%)</td>\n",
       "      <td>93.2</td>\n",
       "      <td>80.7</td>\n",
       "      <td>82.8</td>\n",
       "      <td>76.4</td>\n",
       "    </tr>\n",
       "    <tr>\n",
       "      <th>468</th>\n",
       "      <td>Bihar</td>\n",
       "      <td>Men who are literate (%)</td>\n",
       "      <td>88.8</td>\n",
       "      <td>75.3</td>\n",
       "      <td>77.8</td>\n",
       "      <td>70.4</td>\n",
       "    </tr>\n",
       "  </tbody>\n",
       "</table>\n",
       "</div>"
      ],
      "text/plain": [
       "                           state                 indicator  urban  rural  \\\n",
       "12   Andaman and Nicobar Islands  Men who are literate (%)   96.1   83.3   \n",
       "127               Andhra Pradesh  Men who are literate (%)   90.2   73.6   \n",
       "240            Arunachal Pradesh  Men who are literate (%)   91.4   81.9   \n",
       "354                        Assam  Men who are literate (%)   93.2   80.7   \n",
       "468                        Bihar  Men who are literate (%)   88.8   75.3   \n",
       "\n",
       "     total total_2005-06  \n",
       "12    88.5           NaN  \n",
       "127   79.4           NaN  \n",
       "240   84.5          78.9  \n",
       "354   82.8          76.4  \n",
       "468   77.8          70.4  "
      ]
     },
     "execution_count": 16,
     "metadata": {},
     "output_type": "execute_result"
    }
   ],
   "source": [
    "data.head()\n"
   ]
  },
  {
   "cell_type": "code",
   "execution_count": 17,
   "metadata": {},
   "outputs": [],
   "source": [
    "data = data.drop('total_2005-06', axis=1)"
   ]
  },
  {
   "cell_type": "code",
   "execution_count": 18,
   "metadata": {},
   "outputs": [
    {
     "data": {
      "text/html": [
       "<div>\n",
       "<style>\n",
       "    .dataframe thead tr:only-child th {\n",
       "        text-align: right;\n",
       "    }\n",
       "\n",
       "    .dataframe thead th {\n",
       "        text-align: left;\n",
       "    }\n",
       "\n",
       "    .dataframe tbody tr th {\n",
       "        vertical-align: top;\n",
       "    }\n",
       "</style>\n",
       "<table border=\"1\" class=\"dataframe\">\n",
       "  <thead>\n",
       "    <tr style=\"text-align: right;\">\n",
       "      <th></th>\n",
       "      <th>state</th>\n",
       "      <th>indicator</th>\n",
       "      <th>urban</th>\n",
       "      <th>rural</th>\n",
       "      <th>total</th>\n",
       "    </tr>\n",
       "  </thead>\n",
       "  <tbody>\n",
       "    <tr>\n",
       "      <th>12</th>\n",
       "      <td>Andaman and Nicobar Islands</td>\n",
       "      <td>Men who are literate (%)</td>\n",
       "      <td>96.1</td>\n",
       "      <td>83.3</td>\n",
       "      <td>88.5</td>\n",
       "    </tr>\n",
       "    <tr>\n",
       "      <th>127</th>\n",
       "      <td>Andhra Pradesh</td>\n",
       "      <td>Men who are literate (%)</td>\n",
       "      <td>90.2</td>\n",
       "      <td>73.6</td>\n",
       "      <td>79.4</td>\n",
       "    </tr>\n",
       "    <tr>\n",
       "      <th>240</th>\n",
       "      <td>Arunachal Pradesh</td>\n",
       "      <td>Men who are literate (%)</td>\n",
       "      <td>91.4</td>\n",
       "      <td>81.9</td>\n",
       "      <td>84.5</td>\n",
       "    </tr>\n",
       "    <tr>\n",
       "      <th>354</th>\n",
       "      <td>Assam</td>\n",
       "      <td>Men who are literate (%)</td>\n",
       "      <td>93.2</td>\n",
       "      <td>80.7</td>\n",
       "      <td>82.8</td>\n",
       "    </tr>\n",
       "    <tr>\n",
       "      <th>468</th>\n",
       "      <td>Bihar</td>\n",
       "      <td>Men who are literate (%)</td>\n",
       "      <td>88.8</td>\n",
       "      <td>75.3</td>\n",
       "      <td>77.8</td>\n",
       "    </tr>\n",
       "  </tbody>\n",
       "</table>\n",
       "</div>"
      ],
      "text/plain": [
       "                           state                 indicator  urban  rural  \\\n",
       "12   Andaman and Nicobar Islands  Men who are literate (%)   96.1   83.3   \n",
       "127               Andhra Pradesh  Men who are literate (%)   90.2   73.6   \n",
       "240            Arunachal Pradesh  Men who are literate (%)   91.4   81.9   \n",
       "354                        Assam  Men who are literate (%)   93.2   80.7   \n",
       "468                        Bihar  Men who are literate (%)   88.8   75.3   \n",
       "\n",
       "     total  \n",
       "12    88.5  \n",
       "127   79.4  \n",
       "240   84.5  \n",
       "354   82.8  \n",
       "468   77.8  "
      ]
     },
     "execution_count": 18,
     "metadata": {},
     "output_type": "execute_result"
    }
   ],
   "source": [
    "data.head()"
   ]
  },
  {
   "cell_type": "code",
   "execution_count": 19,
   "metadata": {},
   "outputs": [],
   "source": [
    "data = data.drop('indicator', axis=1)"
   ]
  },
  {
   "cell_type": "code",
   "execution_count": 20,
   "metadata": {},
   "outputs": [
    {
     "data": {
      "text/html": [
       "<div>\n",
       "<style>\n",
       "    .dataframe thead tr:only-child th {\n",
       "        text-align: right;\n",
       "    }\n",
       "\n",
       "    .dataframe thead th {\n",
       "        text-align: left;\n",
       "    }\n",
       "\n",
       "    .dataframe tbody tr th {\n",
       "        vertical-align: top;\n",
       "    }\n",
       "</style>\n",
       "<table border=\"1\" class=\"dataframe\">\n",
       "  <thead>\n",
       "    <tr style=\"text-align: right;\">\n",
       "      <th></th>\n",
       "      <th>state</th>\n",
       "      <th>urban</th>\n",
       "      <th>rural</th>\n",
       "      <th>total</th>\n",
       "    </tr>\n",
       "  </thead>\n",
       "  <tbody>\n",
       "    <tr>\n",
       "      <th>12</th>\n",
       "      <td>Andaman and Nicobar Islands</td>\n",
       "      <td>96.1</td>\n",
       "      <td>83.3</td>\n",
       "      <td>88.5</td>\n",
       "    </tr>\n",
       "    <tr>\n",
       "      <th>127</th>\n",
       "      <td>Andhra Pradesh</td>\n",
       "      <td>90.2</td>\n",
       "      <td>73.6</td>\n",
       "      <td>79.4</td>\n",
       "    </tr>\n",
       "    <tr>\n",
       "      <th>240</th>\n",
       "      <td>Arunachal Pradesh</td>\n",
       "      <td>91.4</td>\n",
       "      <td>81.9</td>\n",
       "      <td>84.5</td>\n",
       "    </tr>\n",
       "    <tr>\n",
       "      <th>354</th>\n",
       "      <td>Assam</td>\n",
       "      <td>93.2</td>\n",
       "      <td>80.7</td>\n",
       "      <td>82.8</td>\n",
       "    </tr>\n",
       "    <tr>\n",
       "      <th>468</th>\n",
       "      <td>Bihar</td>\n",
       "      <td>88.8</td>\n",
       "      <td>75.3</td>\n",
       "      <td>77.8</td>\n",
       "    </tr>\n",
       "  </tbody>\n",
       "</table>\n",
       "</div>"
      ],
      "text/plain": [
       "                           state  urban  rural  total\n",
       "12   Andaman and Nicobar Islands   96.1   83.3   88.5\n",
       "127               Andhra Pradesh   90.2   73.6   79.4\n",
       "240            Arunachal Pradesh   91.4   81.9   84.5\n",
       "354                        Assam   93.2   80.7   82.8\n",
       "468                        Bihar   88.8   75.3   77.8"
      ]
     },
     "execution_count": 20,
     "metadata": {},
     "output_type": "execute_result"
    }
   ],
   "source": [
    "data.head()"
   ]
  },
  {
   "cell_type": "code",
   "execution_count": 21,
   "metadata": {},
   "outputs": [
    {
     "name": "stderr",
     "output_type": "stream",
     "text": [
      "/usr/local/lib/python3.6/site-packages/matplotlib/figure.py:1743: UserWarning: This figure includes Axes that are not compatible with tight_layout, so its results might be incorrect.\n",
      "  warnings.warn(\"This figure includes Axes that are not \"\n"
     ]
    },
    {
     "data": {
      "image/png": "[encoded data removed]",
      "text/plain": [
       "<matplotlib.figure.Figure at 0x110ad3ef0>"
      ]
     },
     "metadata": {},
     "output_type": "display_data"
    }
   ],
   "source": [
    "from collections import OrderedDict\n",
    "result_color = OrderedDict([(\"urban\",\"red\"),(\"rural\", \"green\"),(\"total\",\"black\"),])\n",
    "data.to_csv('literacymale.csv', index=False)\n",
    "from matplotlib import rcParams\n",
    "rcParams.update({'figure.autolayout': True})\n",
    "data_total = data[['state', 'total']].copy()\n",
    "data_total = data_total.drop_duplicates(subset='state')\n",
    "plotted = data_total.set_index('state').plot(kind='bar', figsize=(15,10))\n",
    "plt.show()\n",
    "fig = plotted.get_figure()\n",
    "fig.savefig(\"literacymale.png\")"
   ]
  },
  {
   "cell_type": "code",
   "execution_count": null,
   "metadata": {},
   "outputs": [],
   "source": []
  },
  {
   "cell_type": "code",
   "execution_count": null,
   "metadata": {},
   "outputs": [],
   "source": []
  },
  {
   "cell_type": "code",
   "execution_count": null,
   "metadata": {},
   "outputs": [],
   "source": []
  },
  {
   "cell_type": "code",
   "execution_count": null,
   "metadata": {},
   "outputs": [],
   "source": []
  },
  {
   "cell_type": "code",
   "execution_count": null,
   "metadata": {},
   "outputs": [],
   "source": []
  },
  {
   "cell_type": "code",
   "execution_count": null,
   "metadata": {},
   "outputs": [],
   "source": []
  }
 ],
 "metadata": {
  "kernelspec": {
   "display_name": "Python 3",
   "language": "python",
   "name": "python3"
  },
  "language_info": {
   "codemirror_mode": {
    "name": "ipython",
    "version": 3
   },
   "file_extension": ".py",
   "mimetype": "text/x-python",
   "name": "python",
   "nbconvert_exporter": "python",
   "pygments_lexer": "ipython3",
   "version": "3.6.1"
  }
 },
 "nbformat": 4,
 "nbformat_minor": 2
}
